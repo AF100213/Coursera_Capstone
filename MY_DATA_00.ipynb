{
    "cells": [
        {
            "cell_type": "markdown",
            "metadata": {},
            "source": "# this notebook for download data and save as files"
        },
        {
            "cell_type": "code",
            "execution_count": 1,
            "metadata": {},
            "outputs": [
                {
                    "name": "stdout",
                    "output_type": "stream",
                    "text": "Hello Capstone Project Course!\n"
                }
            ],
            "source": "import pandas as pd\nimport numpy  as np\nprint(\"Hello Capstone Project Course!\")"
        },
        {
            "cell_type": "code",
            "execution_count": 2,
            "metadata": {},
            "outputs": [
                {
                    "data": {
                        "text/html": "<div>\n<style scoped>\n    .dataframe tbody tr th:only-of-type {\n        vertical-align: middle;\n    }\n\n    .dataframe tbody tr th {\n        vertical-align: top;\n    }\n\n    .dataframe thead th {\n        text-align: right;\n    }\n</style>\n<table border=\"1\" class=\"dataframe\">\n  <thead>\n    <tr style=\"text-align: right;\">\n      <th></th>\n      <th>Borough</th>\n      <th>Population</th>\n      <th>Gross Domestic Product</th>\n      <th>Land area</th>\n    </tr>\n  </thead>\n  <tbody>\n    <tr>\n      <th>0</th>\n      <td>Brooklyn</td>\n      <td>2582830</td>\n      <td>91.559</td>\n      <td>70.82</td>\n    </tr>\n    <tr>\n      <th>1</th>\n      <td>Manhattan</td>\n      <td>1628701</td>\n      <td>600.244</td>\n      <td>22.83</td>\n    </tr>\n    <tr>\n      <th>2</th>\n      <td>Queens</td>\n      <td>2278906</td>\n      <td>93.310</td>\n      <td>108.53</td>\n    </tr>\n    <tr>\n      <th>3</th>\n      <td>Staten Island</td>\n      <td>476179</td>\n      <td>14.514</td>\n      <td>58.37</td>\n    </tr>\n    <tr>\n      <th>4</th>\n      <td>The Bronx</td>\n      <td>1432132</td>\n      <td>42.695</td>\n      <td>42.10</td>\n    </tr>\n  </tbody>\n</table>\n</div>",
                        "text/plain": "         Borough  Population  Gross Domestic Product  Land area\n0       Brooklyn     2582830                  91.559      70.82\n1      Manhattan     1628701                 600.244      22.83\n2         Queens     2278906                  93.310     108.53\n3  Staten Island      476179                  14.514      58.37\n4      The Bronx     1432132                  42.695      42.10"
                    },
                    "execution_count": 2,
                    "metadata": {},
                    "output_type": "execute_result"
                }
            ],
            "source": "data = [['Brooklyn',2582830,91.559,70.82], ['Manhattan',1628701,600.244,22.83], ['Queens', 2278906, 93.310,108.53], \n        ['Staten Island',476179,14.514,58.37],['The Bronx',1432132,42.695,42.10]] \n  \n# Create the pandas DataFrame \ndf = pd.DataFrame(data, columns = ['Borough', 'Population','Gross Domestic Product','Land area']) \n  \n# print dataframe. \ndf\n"
        },
        {
            "cell_type": "markdown",
            "metadata": {},
            "source": "# create a geo locations"
        },
        {
            "cell_type": "code",
            "execution_count": 3,
            "metadata": {},
            "outputs": [
                {
                    "data": {
                        "text/html": "<div>\n<style scoped>\n    .dataframe tbody tr th:only-of-type {\n        vertical-align: middle;\n    }\n\n    .dataframe tbody tr th {\n        vertical-align: top;\n    }\n\n    .dataframe thead th {\n        text-align: right;\n    }\n</style>\n<table border=\"1\" class=\"dataframe\">\n  <thead>\n    <tr style=\"text-align: right;\">\n      <th></th>\n      <th>Borough</th>\n      <th>Population</th>\n      <th>Gross Domestic Product</th>\n      <th>Land area</th>\n      <th>latitude</th>\n      <th>longitude</th>\n    </tr>\n  </thead>\n  <tbody>\n    <tr>\n      <th>0</th>\n      <td>Brooklyn</td>\n      <td>2582830</td>\n      <td>91.559</td>\n      <td>70.82</td>\n      <td>0.0</td>\n      <td>0.0</td>\n    </tr>\n    <tr>\n      <th>1</th>\n      <td>Manhattan</td>\n      <td>1628701</td>\n      <td>600.244</td>\n      <td>22.83</td>\n      <td>0.0</td>\n      <td>0.0</td>\n    </tr>\n    <tr>\n      <th>2</th>\n      <td>Queens</td>\n      <td>2278906</td>\n      <td>93.310</td>\n      <td>108.53</td>\n      <td>0.0</td>\n      <td>0.0</td>\n    </tr>\n    <tr>\n      <th>3</th>\n      <td>Staten Island</td>\n      <td>476179</td>\n      <td>14.514</td>\n      <td>58.37</td>\n      <td>0.0</td>\n      <td>0.0</td>\n    </tr>\n    <tr>\n      <th>4</th>\n      <td>The Bronx</td>\n      <td>1432132</td>\n      <td>42.695</td>\n      <td>42.10</td>\n      <td>0.0</td>\n      <td>0.0</td>\n    </tr>\n  </tbody>\n</table>\n</div>",
                        "text/plain": "         Borough  Population  Gross Domestic Product  Land area  latitude  \\\n0       Brooklyn     2582830                  91.559      70.82       0.0   \n1      Manhattan     1628701                 600.244      22.83       0.0   \n2         Queens     2278906                  93.310     108.53       0.0   \n3  Staten Island      476179                  14.514      58.37       0.0   \n4      The Bronx     1432132                  42.695      42.10       0.0   \n\n   longitude  \n0        0.0  \n1        0.0  \n2        0.0  \n3        0.0  \n4        0.0  "
                    },
                    "execution_count": 3,
                    "metadata": {},
                    "output_type": "execute_result"
                }
            ],
            "source": "df['latitude']  = 000.0000000\ndf['longitude'] = 000.0000000\ndf.head(7)\n"
        },
        {
            "cell_type": "code",
            "execution_count": 14,
            "metadata": {},
            "outputs": [
                {
                    "name": "stdout",
                    "output_type": "stream",
                    "text": "Collecting geopy\n\u001b[?25l  Downloading https://files.pythonhosted.org/packages/53/fc/3d1b47e8e82ea12c25203929efb1b964918a77067a874b2c7631e2ec35ec/geopy-1.21.0-py2.py3-none-any.whl (104kB)\n\u001b[K     |\u2588\u2588\u2588\u2588\u2588\u2588\u2588\u2588\u2588\u2588\u2588\u2588\u2588\u2588\u2588\u2588\u2588\u2588\u2588\u2588\u2588\u2588\u2588\u2588\u2588\u2588\u2588\u2588\u2588\u2588\u2588\u2588| 112kB 8.2MB/s eta 0:00:01\n\u001b[?25hCollecting geographiclib<2,>=1.49 (from geopy)\n  Downloading https://files.pythonhosted.org/packages/8b/62/26ec95a98ba64299163199e95ad1b0e34ad3f4e176e221c40245f211e425/geographiclib-1.50-py3-none-any.whl\nInstalling collected packages: geographiclib, geopy\nSuccessfully installed geographiclib-1.50 geopy-1.21.0\nRequirement already satisfied: folium in /home/jupyterlab/conda/envs/python/lib/python3.6/site-packages (0.5.0)\nRequirement already satisfied: requests in /home/jupyterlab/conda/envs/python/lib/python3.6/site-packages (from folium) (2.23.0)\nRequirement already satisfied: six in /home/jupyterlab/conda/envs/python/lib/python3.6/site-packages (from folium) (1.14.0)\nRequirement already satisfied: branca in /home/jupyterlab/conda/envs/python/lib/python3.6/site-packages (from folium) (0.4.0)\nRequirement already satisfied: jinja2 in /home/jupyterlab/conda/envs/python/lib/python3.6/site-packages (from folium) (2.11.2)\nRequirement already satisfied: certifi>=2017.4.17 in /home/jupyterlab/conda/envs/python/lib/python3.6/site-packages (from requests->folium) (2020.4.5.1)\nRequirement already satisfied: chardet<4,>=3.0.2 in /home/jupyterlab/conda/envs/python/lib/python3.6/site-packages (from requests->folium) (3.0.4)\nRequirement already satisfied: urllib3!=1.25.0,!=1.25.1,<1.26,>=1.21.1 in /home/jupyterlab/conda/envs/python/lib/python3.6/site-packages (from requests->folium) (1.25.8)\nRequirement already satisfied: idna<3,>=2.5 in /home/jupyterlab/conda/envs/python/lib/python3.6/site-packages (from requests->folium) (2.9)\nRequirement already satisfied: MarkupSafe>=0.23 in /home/jupyterlab/conda/envs/python/lib/python3.6/site-packages (from jinja2->folium) (1.1.1)\nCollecting geocoder\n\u001b[?25l  Downloading https://files.pythonhosted.org/packages/4f/6b/13166c909ad2f2d76b929a4227c952630ebaf0d729f6317eb09cbceccbab/geocoder-1.38.1-py2.py3-none-any.whl (98kB)\n\u001b[K     |\u2588\u2588\u2588\u2588\u2588\u2588\u2588\u2588\u2588\u2588\u2588\u2588\u2588\u2588\u2588\u2588\u2588\u2588\u2588\u2588\u2588\u2588\u2588\u2588\u2588\u2588\u2588\u2588\u2588\u2588\u2588\u2588| 102kB 6.4MB/s ta 0:00:011\n\u001b[?25hCollecting click (from geocoder)\n\u001b[?25l  Downloading https://files.pythonhosted.org/packages/d2/3d/fa76db83bf75c4f8d338c2fd15c8d33fdd7ad23a9b5e57eb6c5de26b430e/click-7.1.2-py2.py3-none-any.whl (82kB)\n\u001b[K     |\u2588\u2588\u2588\u2588\u2588\u2588\u2588\u2588\u2588\u2588\u2588\u2588\u2588\u2588\u2588\u2588\u2588\u2588\u2588\u2588\u2588\u2588\u2588\u2588\u2588\u2588\u2588\u2588\u2588\u2588\u2588\u2588| 92kB 7.0MB/s eta 0:00:011\n\u001b[?25hRequirement already satisfied: requests in /home/jupyterlab/conda/envs/python/lib/python3.6/site-packages (from geocoder) (2.23.0)\nRequirement already satisfied: six in /home/jupyterlab/conda/envs/python/lib/python3.6/site-packages (from geocoder) (1.14.0)\nCollecting ratelim (from geocoder)\n  Downloading https://files.pythonhosted.org/packages/f2/98/7e6d147fd16a10a5f821db6e25f192265d6ecca3d82957a4fdd592cad49c/ratelim-0.1.6-py2.py3-none-any.whl\nCollecting future (from geocoder)\n\u001b[?25l  Downloading https://files.pythonhosted.org/packages/45/0b/38b06fd9b92dc2b68d58b75f900e97884c45bedd2ff83203d933cf5851c9/future-0.18.2.tar.gz (829kB)\n\u001b[K     |\u2588\u2588\u2588\u2588\u2588\u2588\u2588\u2588\u2588\u2588\u2588\u2588\u2588\u2588\u2588\u2588\u2588\u2588\u2588\u2588\u2588\u2588\u2588\u2588\u2588\u2588\u2588\u2588\u2588\u2588\u2588\u2588| 829kB 8.5MB/s eta 0:00:01\n\u001b[?25hRequirement already satisfied: chardet<4,>=3.0.2 in /home/jupyterlab/conda/envs/python/lib/python3.6/site-packages (from requests->geocoder) (3.0.4)\nRequirement already satisfied: certifi>=2017.4.17 in /home/jupyterlab/conda/envs/python/lib/python3.6/site-packages (from requests->geocoder) (2020.4.5.1)\nRequirement already satisfied: urllib3!=1.25.0,!=1.25.1,<1.26,>=1.21.1 in /home/jupyterlab/conda/envs/python/lib/python3.6/site-packages (from requests->geocoder) (1.25.8)\nRequirement already satisfied: idna<3,>=2.5 in /home/jupyterlab/conda/envs/python/lib/python3.6/site-packages (from requests->geocoder) (2.9)\nRequirement already satisfied: decorator in /home/jupyterlab/conda/envs/python/lib/python3.6/site-packages (from ratelim->geocoder) (4.4.2)\nBuilding wheels for collected packages: future\n  Building wheel for future (setup.py) ... \u001b[?25ldone\n\u001b[?25h  Stored in directory: /home/jupyterlab/.cache/pip/wheels/8b/99/a0/81daf51dcd359a9377b110a8a886b3895921802d2fc1b2397e\nSuccessfully built future\nInstalling collected packages: click, ratelim, future, geocoder\nSuccessfully installed click-7.1.2 future-0.18.2 geocoder-1.38.1 ratelim-0.1.6\n"
                }
            ],
            "source": "#install libraries \n!pip install geopy    \n!pip install folium   \n!pip install geocoder"
        },
        {
            "cell_type": "code",
            "execution_count": 15,
            "metadata": {},
            "outputs": [],
            "source": "from geopy.geocoders import Nominatim # convert an address into latitude and longitude values\nimport geocoder # to get coordinates\n"
        },
        {
            "cell_type": "code",
            "execution_count": 17,
            "metadata": {},
            "outputs": [
                {
                    "data": {
                        "text/html": "<div>\n<style scoped>\n    .dataframe tbody tr th:only-of-type {\n        vertical-align: middle;\n    }\n\n    .dataframe tbody tr th {\n        vertical-align: top;\n    }\n\n    .dataframe thead th {\n        text-align: right;\n    }\n</style>\n<table border=\"1\" class=\"dataframe\">\n  <thead>\n    <tr style=\"text-align: right;\">\n      <th></th>\n      <th>Borough</th>\n      <th>Population</th>\n      <th>Gross Domestic Product</th>\n      <th>Land area</th>\n      <th>latitude</th>\n      <th>longitude</th>\n    </tr>\n  </thead>\n  <tbody>\n    <tr>\n      <th>0</th>\n      <td>Brooklyn</td>\n      <td>2582830</td>\n      <td>91.559</td>\n      <td>70.82</td>\n      <td>40.650104</td>\n      <td>-73.949582</td>\n    </tr>\n    <tr>\n      <th>1</th>\n      <td>Manhattan</td>\n      <td>1628701</td>\n      <td>600.244</td>\n      <td>22.83</td>\n      <td>40.789624</td>\n      <td>-73.959894</td>\n    </tr>\n    <tr>\n      <th>2</th>\n      <td>Queens</td>\n      <td>2278906</td>\n      <td>93.310</td>\n      <td>108.53</td>\n      <td>40.749824</td>\n      <td>-73.797634</td>\n    </tr>\n    <tr>\n      <th>3</th>\n      <td>Staten Island</td>\n      <td>476179</td>\n      <td>14.514</td>\n      <td>58.37</td>\n      <td>40.583456</td>\n      <td>-74.149605</td>\n    </tr>\n    <tr>\n      <th>4</th>\n      <td>The Bronx</td>\n      <td>1432132</td>\n      <td>42.695</td>\n      <td>42.10</td>\n      <td>40.846651</td>\n      <td>-73.878594</td>\n    </tr>\n  </tbody>\n</table>\n</div>",
                        "text/plain": "         Borough  Population  Gross Domestic Product  Land area   latitude  \\\n0       Brooklyn     2582830                  91.559      70.82  40.650104   \n1      Manhattan     1628701                 600.244      22.83  40.789624   \n2         Queens     2278906                  93.310     108.53  40.749824   \n3  Staten Island      476179                  14.514      58.37  40.583456   \n4      The Bronx     1432132                  42.695      42.10  40.846651   \n\n   longitude  \n0 -73.949582  \n1 -73.959894  \n2 -73.797634  \n3 -74.149605  \n4 -73.878594  "
                    },
                    "execution_count": 17,
                    "metadata": {},
                    "output_type": "execute_result"
                }
            ],
            "source": "for i in range(len(df1)): \n    a1 = df1.at[i,\"Borough\"]\n    address = a1.strip()+\", New York, United States\"\n    \n    geolocator = Nominatim(user_agent=\"my_explorer\")\n    location  = geolocator.geocode(address)\n    df1.at[i,\"latitude\"]   = location.latitude\n    df1.at[i,\"longitude\"]  = location.longitude\n    \n\ndf1.head(7)"
        },
        {
            "cell_type": "code",
            "execution_count": 18,
            "metadata": {},
            "outputs": [],
            "source": "# save dataframe in file .csv\ndf1.to_csv(r'data_00.csv')\n#df1.to_csv(r'data_00.csv', index=False)"
        },
        {
            "cell_type": "code",
            "execution_count": 24,
            "metadata": {},
            "outputs": [
                {
                    "data": {
                        "text/html": "<div>\n<style scoped>\n    .dataframe tbody tr th:only-of-type {\n        vertical-align: middle;\n    }\n\n    .dataframe tbody tr th {\n        vertical-align: top;\n    }\n\n    .dataframe thead th {\n        text-align: right;\n    }\n</style>\n<table border=\"1\" class=\"dataframe\">\n  <thead>\n    <tr style=\"text-align: right;\">\n      <th></th>\n      <th>Borough</th>\n      <th>Population</th>\n      <th>Gross Domestic Product</th>\n      <th>Land area</th>\n      <th>latitude</th>\n      <th>longitude</th>\n    </tr>\n  </thead>\n  <tbody>\n    <tr>\n      <th>0</th>\n      <td>Brooklyn</td>\n      <td>2582830</td>\n      <td>91.559</td>\n      <td>70.82</td>\n      <td>40.650104</td>\n      <td>-73.949582</td>\n    </tr>\n    <tr>\n      <th>1</th>\n      <td>Manhattan</td>\n      <td>1628701</td>\n      <td>600.244</td>\n      <td>22.83</td>\n      <td>40.789624</td>\n      <td>-73.959894</td>\n    </tr>\n    <tr>\n      <th>2</th>\n      <td>Queens</td>\n      <td>2278906</td>\n      <td>93.310</td>\n      <td>108.53</td>\n      <td>40.749824</td>\n      <td>-73.797634</td>\n    </tr>\n    <tr>\n      <th>3</th>\n      <td>Staten Island</td>\n      <td>476179</td>\n      <td>14.514</td>\n      <td>58.37</td>\n      <td>40.583456</td>\n      <td>-74.149605</td>\n    </tr>\n    <tr>\n      <th>4</th>\n      <td>The Bronx</td>\n      <td>1432132</td>\n      <td>42.695</td>\n      <td>42.10</td>\n      <td>40.846651</td>\n      <td>-73.878594</td>\n    </tr>\n  </tbody>\n</table>\n</div>",
                        "text/plain": "         Borough  Population  Gross Domestic Product  Land area   latitude  \\\n0       Brooklyn     2582830                  91.559      70.82  40.650104   \n1      Manhattan     1628701                 600.244      22.83  40.789624   \n2         Queens     2278906                  93.310     108.53  40.749824   \n3  Staten Island      476179                  14.514      58.37  40.583456   \n4      The Bronx     1432132                  42.695      42.10  40.846651   \n\n   longitude  \n0 -73.949582  \n1 -73.959894  \n2 -73.797634  \n3 -74.149605  \n4 -73.878594  "
                    },
                    "execution_count": 24,
                    "metadata": {},
                    "output_type": "execute_result"
                }
            ],
            "source": "# read dataframe from file .csv\n#df2 = pd.read_csv('data_00.csv', index_col=None, header=0)\ndf2 = pd.read_csv('data_00.csv', index_col=[0])\ndf2"
        },
        {
            "cell_type": "markdown",
            "metadata": {},
            "source": "# Before we get the data and start exploring it, let's download all the dependencies that we will need."
        },
        {
            "cell_type": "code",
            "execution_count": 30,
            "metadata": {},
            "outputs": [
                {
                    "name": "stdout",
                    "output_type": "stream",
                    "text": "Collecting package metadata (current_repodata.json): done\nSolving environment: done\n\n# All requested packages already installed.\n\nCollecting package metadata (current_repodata.json): done\nSolving environment: failed with initial frozen solve. Retrying with flexible solve.\nCollecting package metadata (repodata.json): done\nSolving environment: done\n\n## Package Plan ##\n\n  environment location: /home/jupyterlab/conda/envs/python\n\n  added / updated specs:\n    - folium=0.5.0\n\n\nThe following packages will be downloaded:\n\n    package                    |            build\n    ---------------------------|-----------------\n    altair-4.1.0               |             py_1         614 KB  conda-forge\n    branca-0.4.0               |             py_0          26 KB  conda-forge\n    brotlipy-0.7.0             |py36h8c4c3a4_1000         346 KB  conda-forge\n    chardet-3.0.4              |py36h9f0ad1d_1006         188 KB  conda-forge\n    cryptography-2.9.2         |   py36h45558ae_0         613 KB  conda-forge\n    folium-0.5.0               |             py_0          45 KB  conda-forge\n    pandas-1.0.3               |   py36h830a2c2_1        11.1 MB  conda-forge\n    pysocks-1.7.1              |   py36h9f0ad1d_1          27 KB  conda-forge\n    pytz-2020.1                |     pyh9f0ad1d_0         227 KB  conda-forge\n    toolz-0.10.0               |             py_0          46 KB  conda-forge\n    urllib3-1.25.9             |             py_0          92 KB  conda-forge\n    vincent-0.4.4              |             py_1          28 KB  conda-forge\n    ------------------------------------------------------------\n                                           Total:        13.3 MB\n\nThe following NEW packages will be INSTALLED:\n\n  altair             conda-forge/noarch::altair-4.1.0-py_1\n  attrs              conda-forge/noarch::attrs-19.3.0-py_0\n  branca             conda-forge/noarch::branca-0.4.0-py_0\n  brotlipy           conda-forge/linux-64::brotlipy-0.7.0-py36h8c4c3a4_1000\n  chardet            conda-forge/linux-64::chardet-3.0.4-py36h9f0ad1d_1006\n  cryptography       conda-forge/linux-64::cryptography-2.9.2-py36h45558ae_0\n  entrypoints        conda-forge/linux-64::entrypoints-0.3-py36h9f0ad1d_1001\n  folium             conda-forge/noarch::folium-0.5.0-py_0\n  idna               conda-forge/noarch::idna-2.9-py_1\n  importlib-metadata conda-forge/linux-64::importlib-metadata-1.6.0-py36h9f0ad1d_0\n  importlib_metadata conda-forge/noarch::importlib_metadata-1.6.0-0\n  jinja2             conda-forge/noarch::jinja2-2.11.2-pyh9f0ad1d_0\n  jsonschema         conda-forge/linux-64::jsonschema-3.2.0-py36h9f0ad1d_1\n  markupsafe         conda-forge/linux-64::markupsafe-1.1.1-py36h8c4c3a4_1\n  pandas             conda-forge/linux-64::pandas-1.0.3-py36h830a2c2_1\n  pyopenssl          conda-forge/noarch::pyopenssl-19.1.0-py_1\n  pyrsistent         conda-forge/linux-64::pyrsistent-0.16.0-py36h8c4c3a4_0\n  pysocks            conda-forge/linux-64::pysocks-1.7.1-py36h9f0ad1d_1\n  pytz               conda-forge/noarch::pytz-2020.1-pyh9f0ad1d_0\n  requests           conda-forge/noarch::requests-2.23.0-pyh8c360ce_2\n  toolz              conda-forge/noarch::toolz-0.10.0-py_0\n  urllib3            conda-forge/noarch::urllib3-1.25.9-py_0\n  vincent            conda-forge/noarch::vincent-0.4.4-py_1\n  zipp               conda-forge/noarch::zipp-3.1.0-py_0\n\n\n\nDownloading and Extracting Packages\npysocks-1.7.1        | 27 KB     | ##################################### | 100% \ntoolz-0.10.0         | 46 KB     | ##################################### | 100% \npytz-2020.1          | 227 KB    | ##################################### | 100% \nchardet-3.0.4        | 188 KB    | ##################################### | 100% \nfolium-0.5.0         | 45 KB     | ##################################### | 100% \nurllib3-1.25.9       | 92 KB     | ##################################### | 100% \ncryptography-2.9.2   | 613 KB    | ##################################### | 100% \nbrotlipy-0.7.0       | 346 KB    | ##################################### | 100% \npandas-1.0.3         | 11.1 MB   | ##################################### | 100% \naltair-4.1.0         | 614 KB    | ##################################### | 100% \nbranca-0.4.0         | 26 KB     | ##################################### | 100% \nvincent-0.4.4        | 28 KB     | ##################################### | 100% \nPreparing transaction: done\nVerifying transaction: done\nExecuting transaction: done\nLibraries imported.\n"
                }
            ],
            "source": "import numpy as np # library to handle data in a vectorized manner\n\nimport pandas as pd # library for data analsysis\npd.set_option('display.max_columns', None)\npd.set_option('display.max_rows', None)\n\nimport json # library to handle JSON files\n\n!conda install -c conda-forge geopy --yes # uncomment this line if you haven't completed the Foursquare API lab\nfrom geopy.geocoders import Nominatim # convert an address into latitude and longitude values\n\nimport requests # library to handle requests\nfrom pandas.io.json import json_normalize # tranform JSON file into a pandas dataframe\n\n# Matplotlib and associated plotting modules\nimport matplotlib.cm as cm\nimport matplotlib.colors as colors\n\n# import k-means from clustering stage\nfrom sklearn.cluster import KMeans\n\n!conda install -c conda-forge folium=0.5.0 --yes # uncomment this line if you haven't completed the Foursquare API lab\nimport folium # map rendering library\n\nprint('Libraries imported.')"
        },
        {
            "cell_type": "code",
            "execution_count": 31,
            "metadata": {},
            "outputs": [
                {
                    "name": "stdout",
                    "output_type": "stream",
                    "text": "Data downloaded!\n"
                }
            ],
            "source": "!wget -q -O 'newyork_data.json' https://cocl.us/new_york_dataset\nprint('Data downloaded!')"
        },
        {
            "cell_type": "code",
            "execution_count": 39,
            "metadata": {},
            "outputs": [],
            "source": "with open('newyork_data.json') as json_data:\n    newyork_data = json.load(json_data)\n    \n#newyork_data    "
        },
        {
            "cell_type": "code",
            "execution_count": 40,
            "metadata": {},
            "outputs": [
                {
                    "data": {
                        "text/plain": "{'type': 'Feature',\n 'id': 'nyu_2451_34572.1',\n 'geometry': {'type': 'Point',\n  'coordinates': [-73.84720052054902, 40.89470517661]},\n 'geometry_name': 'geom',\n 'properties': {'name': 'Wakefield',\n  'stacked': 1,\n  'annoline1': 'Wakefield',\n  'annoline2': None,\n  'annoline3': None,\n  'annoangle': 0.0,\n  'borough': 'Bronx',\n  'bbox': [-73.84720052054902,\n   40.89470517661,\n   -73.84720052054902,\n   40.89470517661]}}"
                    },
                    "execution_count": 40,
                    "metadata": {},
                    "output_type": "execute_result"
                }
            ],
            "source": "neighborhoods_data = newyork_data['features']\nneighborhoods_data[0]"
        },
        {
            "cell_type": "markdown",
            "metadata": {},
            "source": "# Tranform the data into a pandas dataframe and save in file"
        },
        {
            "cell_type": "code",
            "execution_count": 41,
            "metadata": {},
            "outputs": [
                {
                    "data": {
                        "text/html": "<div>\n<style scoped>\n    .dataframe tbody tr th:only-of-type {\n        vertical-align: middle;\n    }\n\n    .dataframe tbody tr th {\n        vertical-align: top;\n    }\n\n    .dataframe thead th {\n        text-align: right;\n    }\n</style>\n<table border=\"1\" class=\"dataframe\">\n  <thead>\n    <tr style=\"text-align: right;\">\n      <th></th>\n      <th>Borough</th>\n      <th>Neighborhood</th>\n      <th>Latitude</th>\n      <th>Longitude</th>\n    </tr>\n  </thead>\n  <tbody>\n    <tr>\n      <th>0</th>\n      <td>Bronx</td>\n      <td>Wakefield</td>\n      <td>40.894705</td>\n      <td>-73.847201</td>\n    </tr>\n    <tr>\n      <th>1</th>\n      <td>Bronx</td>\n      <td>Co-op City</td>\n      <td>40.874294</td>\n      <td>-73.829939</td>\n    </tr>\n    <tr>\n      <th>2</th>\n      <td>Bronx</td>\n      <td>Eastchester</td>\n      <td>40.887556</td>\n      <td>-73.827806</td>\n    </tr>\n    <tr>\n      <th>3</th>\n      <td>Bronx</td>\n      <td>Fieldston</td>\n      <td>40.895437</td>\n      <td>-73.905643</td>\n    </tr>\n    <tr>\n      <th>4</th>\n      <td>Bronx</td>\n      <td>Riverdale</td>\n      <td>40.890834</td>\n      <td>-73.912585</td>\n    </tr>\n  </tbody>\n</table>\n</div>",
                        "text/plain": "  Borough Neighborhood   Latitude  Longitude\n0   Bronx    Wakefield  40.894705 -73.847201\n1   Bronx   Co-op City  40.874294 -73.829939\n2   Bronx  Eastchester  40.887556 -73.827806\n3   Bronx    Fieldston  40.895437 -73.905643\n4   Bronx    Riverdale  40.890834 -73.912585"
                    },
                    "execution_count": 41,
                    "metadata": {},
                    "output_type": "execute_result"
                }
            ],
            "source": "# define the dataframe columns\ncolumn_names = ['Borough', 'Neighborhood', 'Latitude', 'Longitude'] \n\n# instantiate the dataframe\nneighborhoods = pd.DataFrame(columns=column_names)\n\n# Then let's loop through the data and fill the dataframe one row at a time.\nfor data in neighborhoods_data:\n    borough = neighborhood_name = data['properties']['borough'] \n    neighborhood_name = data['properties']['name']\n        \n    neighborhood_latlon = data['geometry']['coordinates']\n    neighborhood_lat = neighborhood_latlon[1]\n    neighborhood_lon = neighborhood_latlon[0]\n    \n    neighborhoods = neighborhoods.append({'Borough': borough,\n                                          'Neighborhood': neighborhood_name,\n                                          'Latitude': neighborhood_lat,\n                                          'Longitude': neighborhood_lon}, ignore_index=True)\n\nneighborhoods.head()\n\n"
        },
        {
            "cell_type": "code",
            "execution_count": 42,
            "metadata": {},
            "outputs": [
                {
                    "name": "stdout",
                    "output_type": "stream",
                    "text": "The dataframe has 5 boroughs and 306 neighborhoods.\n"
                }
            ],
            "source": "print('The dataframe has {} boroughs and {} neighborhoods.'.format(\n        len(neighborhoods['Borough'].unique()),\n        neighborhoods.shape[0]\n    )\n)"
        },
        {
            "cell_type": "code",
            "execution_count": 83,
            "metadata": {},
            "outputs": [
                {
                    "data": {
                        "text/html": "<div>\n<style scoped>\n    .dataframe tbody tr th:only-of-type {\n        vertical-align: middle;\n    }\n\n    .dataframe tbody tr th {\n        vertical-align: top;\n    }\n\n    .dataframe thead th {\n        text-align: right;\n    }\n</style>\n<table border=\"1\" class=\"dataframe\">\n  <thead>\n    <tr style=\"text-align: right;\">\n      <th></th>\n      <th>Borough</th>\n      <th>Neighborhood</th>\n      <th>Latitude</th>\n      <th>Longitude</th>\n      <th>restaurants</th>\n    </tr>\n  </thead>\n  <tbody>\n    <tr>\n      <th>0</th>\n      <td>Bronx</td>\n      <td>Wakefield</td>\n      <td>40.894705</td>\n      <td>-73.847201</td>\n      <td>0</td>\n    </tr>\n    <tr>\n      <th>1</th>\n      <td>Bronx</td>\n      <td>Co-op City</td>\n      <td>40.874294</td>\n      <td>-73.829939</td>\n      <td>0</td>\n    </tr>\n    <tr>\n      <th>2</th>\n      <td>Bronx</td>\n      <td>Eastchester</td>\n      <td>40.887556</td>\n      <td>-73.827806</td>\n      <td>0</td>\n    </tr>\n    <tr>\n      <th>3</th>\n      <td>Bronx</td>\n      <td>Fieldston</td>\n      <td>40.895437</td>\n      <td>-73.905643</td>\n      <td>0</td>\n    </tr>\n    <tr>\n      <th>4</th>\n      <td>Bronx</td>\n      <td>Riverdale</td>\n      <td>40.890834</td>\n      <td>-73.912585</td>\n      <td>0</td>\n    </tr>\n    <tr>\n      <th>5</th>\n      <td>Bronx</td>\n      <td>Kingsbridge</td>\n      <td>40.881687</td>\n      <td>-73.902818</td>\n      <td>0</td>\n    </tr>\n    <tr>\n      <th>6</th>\n      <td>Manhattan</td>\n      <td>Marble Hill</td>\n      <td>40.876551</td>\n      <td>-73.910660</td>\n      <td>0</td>\n    </tr>\n  </tbody>\n</table>\n</div>",
                        "text/plain": "     Borough Neighborhood   Latitude  Longitude  restaurants\n0      Bronx    Wakefield  40.894705 -73.847201            0\n1      Bronx   Co-op City  40.874294 -73.829939            0\n2      Bronx  Eastchester  40.887556 -73.827806            0\n3      Bronx    Fieldston  40.895437 -73.905643            0\n4      Bronx    Riverdale  40.890834 -73.912585            0\n5      Bronx  Kingsbridge  40.881687 -73.902818            0\n6  Manhattan  Marble Hill  40.876551 -73.910660            0"
                    },
                    "execution_count": 83,
                    "metadata": {},
                    "output_type": "execute_result"
                }
            ],
            "source": "# add colom restaurants\nneighborhoods['restaurants'] = 00000000\nneighborhoods.head(7)\n"
        },
        {
            "cell_type": "code",
            "execution_count": 84,
            "metadata": {},
            "outputs": [],
            "source": "# save dataframe in file .csv\n#neighborhoods.to_csv(r'data_11.csv', index=False)\nneighborhoods.to_csv(r'data_11.csv')\n"
        },
        {
            "cell_type": "code",
            "execution_count": 85,
            "metadata": {},
            "outputs": [
                {
                    "data": {
                        "text/html": "<div>\n<style scoped>\n    .dataframe tbody tr th:only-of-type {\n        vertical-align: middle;\n    }\n\n    .dataframe tbody tr th {\n        vertical-align: top;\n    }\n\n    .dataframe thead th {\n        text-align: right;\n    }\n</style>\n<table border=\"1\" class=\"dataframe\">\n  <thead>\n    <tr style=\"text-align: right;\">\n      <th></th>\n      <th>Borough</th>\n      <th>Neighborhood</th>\n      <th>Latitude</th>\n      <th>Longitude</th>\n      <th>restaurants</th>\n    </tr>\n  </thead>\n  <tbody>\n    <tr>\n      <th>0</th>\n      <td>Bronx</td>\n      <td>Wakefield</td>\n      <td>40.894705</td>\n      <td>-73.847201</td>\n      <td>0</td>\n    </tr>\n    <tr>\n      <th>1</th>\n      <td>Bronx</td>\n      <td>Co-op City</td>\n      <td>40.874294</td>\n      <td>-73.829939</td>\n      <td>0</td>\n    </tr>\n    <tr>\n      <th>2</th>\n      <td>Bronx</td>\n      <td>Eastchester</td>\n      <td>40.887556</td>\n      <td>-73.827806</td>\n      <td>0</td>\n    </tr>\n    <tr>\n      <th>3</th>\n      <td>Bronx</td>\n      <td>Fieldston</td>\n      <td>40.895437</td>\n      <td>-73.905643</td>\n      <td>0</td>\n    </tr>\n    <tr>\n      <th>4</th>\n      <td>Bronx</td>\n      <td>Riverdale</td>\n      <td>40.890834</td>\n      <td>-73.912585</td>\n      <td>0</td>\n    </tr>\n  </tbody>\n</table>\n</div>",
                        "text/plain": "  Borough Neighborhood   Latitude  Longitude  restaurants\n0   Bronx    Wakefield  40.894705 -73.847201            0\n1   Bronx   Co-op City  40.874294 -73.829939            0\n2   Bronx  Eastchester  40.887556 -73.827806            0\n3   Bronx    Fieldston  40.895437 -73.905643            0\n4   Bronx    Riverdale  40.890834 -73.912585            0"
                    },
                    "execution_count": 85,
                    "metadata": {},
                    "output_type": "execute_result"
                }
            ],
            "source": "\n# read dataframe from file .csv\nneighborhoods = pd.read_csv('data_11.csv', index_col=[0])\nneighborhoods.head()\n"
        },
        {
            "cell_type": "markdown",
            "metadata": {},
            "source": "# WORK WITH MANHATTAN"
        },
        {
            "cell_type": "code",
            "execution_count": 47,
            "metadata": {},
            "outputs": [
                {
                    "data": {
                        "text/html": "<div>\n<style scoped>\n    .dataframe tbody tr th:only-of-type {\n        vertical-align: middle;\n    }\n\n    .dataframe tbody tr th {\n        vertical-align: top;\n    }\n\n    .dataframe thead th {\n        text-align: right;\n    }\n</style>\n<table border=\"1\" class=\"dataframe\">\n  <thead>\n    <tr style=\"text-align: right;\">\n      <th></th>\n      <th>Borough</th>\n      <th>Neighborhood</th>\n      <th>Latitude</th>\n      <th>Longitude</th>\n    </tr>\n  </thead>\n  <tbody>\n    <tr>\n      <th>0</th>\n      <td>Manhattan</td>\n      <td>Marble Hill</td>\n      <td>40.876551</td>\n      <td>-73.910660</td>\n    </tr>\n    <tr>\n      <th>1</th>\n      <td>Manhattan</td>\n      <td>Chinatown</td>\n      <td>40.715618</td>\n      <td>-73.994279</td>\n    </tr>\n    <tr>\n      <th>2</th>\n      <td>Manhattan</td>\n      <td>Washington Heights</td>\n      <td>40.851903</td>\n      <td>-73.936900</td>\n    </tr>\n    <tr>\n      <th>3</th>\n      <td>Manhattan</td>\n      <td>Inwood</td>\n      <td>40.867684</td>\n      <td>-73.921210</td>\n    </tr>\n    <tr>\n      <th>4</th>\n      <td>Manhattan</td>\n      <td>Hamilton Heights</td>\n      <td>40.823604</td>\n      <td>-73.949688</td>\n    </tr>\n  </tbody>\n</table>\n</div>",
                        "text/plain": "     Borough        Neighborhood   Latitude  Longitude\n0  Manhattan         Marble Hill  40.876551 -73.910660\n1  Manhattan           Chinatown  40.715618 -73.994279\n2  Manhattan  Washington Heights  40.851903 -73.936900\n3  Manhattan              Inwood  40.867684 -73.921210\n4  Manhattan    Hamilton Heights  40.823604 -73.949688"
                    },
                    "execution_count": 47,
                    "metadata": {},
                    "output_type": "execute_result"
                }
            ],
            "source": "manhattan_data = neighborhoods[neighborhoods['Borough'] == 'Manhattan'].reset_index(drop=True)\nmanhattan_data.head()"
        },
        {
            "cell_type": "code",
            "execution_count": null,
            "metadata": {},
            "outputs": [],
            "source": ""
        },
        {
            "cell_type": "code",
            "execution_count": null,
            "metadata": {},
            "outputs": [],
            "source": ""
        },
        {
            "cell_type": "code",
            "execution_count": null,
            "metadata": {},
            "outputs": [],
            "source": ""
        },
        {
            "cell_type": "markdown",
            "metadata": {},
            "source": "# Define Foursquare Credentials and Version"
        },
        {
            "cell_type": "code",
            "execution_count": 1,
            "metadata": {},
            "outputs": [
                {
                    "name": "stdout",
                    "output_type": "stream",
                    "text": "Your credentails:\nCLIENT_ID: EOXUVNWN5FUTXNKHVBOCX3DRU\nCLIENT_SECRET:RIJYIWEUHYCHN4JY35QSL4DM1JZN\n"
                }
            ],
            "source": "CLIENT_ID = 'EOXUVNWN5FUTXNKHVBOCX3DRU' # your Foursquare ID\nCLIENT_SECRET = 'RIJYIWEUHYCHN4JY35QSL4DM1JZN' # your Foursquare Secret\nVERSION = '20180605' # Foursquare API version\n\nprint('Your credentails:')\nprint('CLIENT_ID: ' + CLIENT_ID)\nprint('CLIENT_SECRET:' + CLIENT_SECRET)"
        },
        {
            "cell_type": "markdown",
            "metadata": {},
            "source": "# Let's explore the first Borough in our dataframe."
        },
        {
            "cell_type": "code",
            "execution_count": 49,
            "metadata": {},
            "outputs": [
                {
                    "name": "stdout",
                    "output_type": "stream",
                    "text": "Latitude and longitude values of Marble Hill are 40.87655077879964, -73.91065965862981.\n"
                }
            ],
            "source": "neighborhood_latitude = manhattan_data.loc[0, 'Latitude'] # neighborhood latitude value\nneighborhood_longitude = manhattan_data.loc[0, 'Longitude'] # neighborhood longitude value\n\nneighborhood_name = manhattan_data.loc[0, 'Neighborhood'] # neighborhood name\n\nprint('Latitude and longitude values of {} are {}, {}.'.format(neighborhood_name, \n                                                               neighborhood_latitude, \n                                                               neighborhood_longitude))"
        },
        {
            "cell_type": "code",
            "execution_count": 50,
            "metadata": {},
            "outputs": [
                {
                    "data": {
                        "text/plain": "'https://api.foursquare.com/v2/venues/explore?&client_id=BPRDGUIQFF4E2EOXUVNWN5FUTXNKKKMV1YYTJSHVBOCX3DRU&client_secret=2ESSUXJSR4RIJYIWEUHYCHN4JTTFV0ECVSJY35QSL4DM1JZN&v=20180605&ll=40.87655077879964,-73.91065965862981&radius=500&limit=100'"
                    },
                    "execution_count": 50,
                    "metadata": {},
                    "output_type": "execute_result"
                }
            ],
            "source": "LIMIT  = 100 # limit of number of venues returned by Foursquare API\nradius = 500 # define radius\n# create URL\nurl = 'https://api.foursquare.com/v2/venues/explore?&client_id={}&client_secret={}&v={}&ll={},{}&radius={}&limit={}'.format(\n    CLIENT_ID, \n    CLIENT_SECRET, \n    VERSION, \n    neighborhood_latitude, \n    neighborhood_longitude, \n    radius, \n    LIMIT)\n\nurl\n"
        },
        {
            "cell_type": "markdown",
            "metadata": {},
            "source": "# Send the GET request and examine the resutls"
        },
        {
            "cell_type": "code",
            "execution_count": 52,
            "metadata": {},
            "outputs": [],
            "source": "results = requests.get(url).json()\n#results"
        },
        {
            "cell_type": "code",
            "execution_count": 53,
            "metadata": {},
            "outputs": [],
            "source": "# function that extracts the category of the venue\ndef get_category_type(row):\n    try:\n        categories_list = row['categories']\n    except:\n        categories_list = row['venue.categories']\n        \n    if len(categories_list) == 0:\n        return None\n    else:\n        return categories_list[0]['name']"
        },
        {
            "cell_type": "code",
            "execution_count": 61,
            "metadata": {},
            "outputs": [
                {
                    "name": "stderr",
                    "output_type": "stream",
                    "text": "/home/jupyterlab/conda/envs/python/lib/python3.6/site-packages/ipykernel_launcher.py:3: FutureWarning: pandas.io.json.json_normalize is deprecated, use pandas.json_normalize instead\n  This is separate from the ipykernel package so we can avoid doing imports until\n"
                },
                {
                    "data": {
                        "text/html": "<div>\n<style scoped>\n    .dataframe tbody tr th:only-of-type {\n        vertical-align: middle;\n    }\n\n    .dataframe tbody tr th {\n        vertical-align: top;\n    }\n\n    .dataframe thead th {\n        text-align: right;\n    }\n</style>\n<table border=\"1\" class=\"dataframe\">\n  <thead>\n    <tr style=\"text-align: right;\">\n      <th></th>\n      <th>city</th>\n      <th>postalCode</th>\n      <th>name</th>\n      <th>categories</th>\n      <th>lat</th>\n      <th>lng</th>\n    </tr>\n  </thead>\n  <tbody>\n    <tr>\n      <th>0</th>\n      <td>New York</td>\n      <td>10463</td>\n      <td>Arturo's</td>\n      <td>Pizza Place</td>\n      <td>40.874412</td>\n      <td>-73.910271</td>\n    </tr>\n    <tr>\n      <th>1</th>\n      <td>Bronx</td>\n      <td>10463</td>\n      <td>Bikram Yoga</td>\n      <td>Yoga Studio</td>\n      <td>40.876844</td>\n      <td>-73.906204</td>\n    </tr>\n    <tr>\n      <th>2</th>\n      <td>Bronx</td>\n      <td>10463</td>\n      <td>Tibbett Diner</td>\n      <td>Diner</td>\n      <td>40.880404</td>\n      <td>-73.908937</td>\n    </tr>\n    <tr>\n      <th>3</th>\n      <td>Bronx</td>\n      <td>10463</td>\n      <td>Starbucks</td>\n      <td>Coffee Shop</td>\n      <td>40.877531</td>\n      <td>-73.905582</td>\n    </tr>\n    <tr>\n      <th>4</th>\n      <td>Bronx</td>\n      <td>10463</td>\n      <td>Dunkin'</td>\n      <td>Donut Shop</td>\n      <td>40.877136</td>\n      <td>-73.906666</td>\n    </tr>\n    <tr>\n      <th>5</th>\n      <td>Bronx</td>\n      <td>10463</td>\n      <td>Rite Aid</td>\n      <td>Pharmacy</td>\n      <td>40.875467</td>\n      <td>-73.908906</td>\n    </tr>\n    <tr>\n      <th>6</th>\n      <td>Bronx</td>\n      <td>10463</td>\n      <td>TCR The Club of Riverdale</td>\n      <td>Tennis Stadium</td>\n      <td>40.878628</td>\n      <td>-73.914568</td>\n    </tr>\n    <tr>\n      <th>7</th>\n      <td>Bronx</td>\n      <td>10463</td>\n      <td>Land &amp; Sea Restaurant</td>\n      <td>Seafood Restaurant</td>\n      <td>40.877885</td>\n      <td>-73.905873</td>\n    </tr>\n    <tr>\n      <th>8</th>\n      <td>New York</td>\n      <td>10463</td>\n      <td>Starbucks</td>\n      <td>Coffee Shop</td>\n      <td>40.873755</td>\n      <td>-73.908613</td>\n    </tr>\n    <tr>\n      <th>9</th>\n      <td>Bronx</td>\n      <td>10463</td>\n      <td>Astral Fitness &amp; Wellness Center</td>\n      <td>Gym</td>\n      <td>40.876705</td>\n      <td>-73.906372</td>\n    </tr>\n    <tr>\n      <th>10</th>\n      <td>Bronx</td>\n      <td>10463</td>\n      <td>Blink Fitness</td>\n      <td>Gym</td>\n      <td>40.877271</td>\n      <td>-73.905595</td>\n    </tr>\n    <tr>\n      <th>11</th>\n      <td>Bronx</td>\n      <td>10463</td>\n      <td>Vitamin Shoppe</td>\n      <td>Supplement Shop</td>\n      <td>40.877160</td>\n      <td>-73.905632</td>\n    </tr>\n    <tr>\n      <th>12</th>\n      <td>Bronx</td>\n      <td>10463</td>\n      <td>Parrilla Latina</td>\n      <td>Steakhouse</td>\n      <td>40.877473</td>\n      <td>-73.906073</td>\n    </tr>\n    <tr>\n      <th>13</th>\n      <td>Bronx</td>\n      <td>NaN</td>\n      <td>T.J. Maxx</td>\n      <td>Department Store</td>\n      <td>40.877232</td>\n      <td>-73.905042</td>\n    </tr>\n    <tr>\n      <th>14</th>\n      <td>Bronx</td>\n      <td>10463</td>\n      <td>Boston Market</td>\n      <td>American Restaurant</td>\n      <td>40.877430</td>\n      <td>-73.905412</td>\n    </tr>\n    <tr>\n      <th>15</th>\n      <td>Bronx</td>\n      <td>10463</td>\n      <td>Subway Sandwiches</td>\n      <td>Sandwich Place</td>\n      <td>40.874667</td>\n      <td>-73.909586</td>\n    </tr>\n    <tr>\n      <th>16</th>\n      <td>Bronx</td>\n      <td>10463</td>\n      <td>Baskin-Robbins</td>\n      <td>Ice Cream Shop</td>\n      <td>40.877149</td>\n      <td>-73.906658</td>\n    </tr>\n    <tr>\n      <th>17</th>\n      <td>Bronx</td>\n      <td>10463</td>\n      <td>Lot Less Closeouts</td>\n      <td>Discount Store</td>\n      <td>40.878270</td>\n      <td>-73.905265</td>\n    </tr>\n    <tr>\n      <th>18</th>\n      <td>Bronx</td>\n      <td>10463</td>\n      <td>GameStop</td>\n      <td>Video Game Store</td>\n      <td>40.874267</td>\n      <td>-73.909342</td>\n    </tr>\n    <tr>\n      <th>19</th>\n      <td>Bronx</td>\n      <td>10463</td>\n      <td>TD Bank</td>\n      <td>Bank</td>\n      <td>40.879496</td>\n      <td>-73.909286</td>\n    </tr>\n  </tbody>\n</table>\n</div>",
                        "text/plain": "        city postalCode                              name  \\\n0   New York      10463                          Arturo's   \n1      Bronx      10463                       Bikram Yoga   \n2      Bronx      10463                     Tibbett Diner   \n3      Bronx      10463                         Starbucks   \n4      Bronx      10463                           Dunkin'   \n5      Bronx      10463                          Rite Aid   \n6      Bronx      10463         TCR The Club of Riverdale   \n7      Bronx      10463             Land & Sea Restaurant   \n8   New York      10463                         Starbucks   \n9      Bronx      10463  Astral Fitness & Wellness Center   \n10     Bronx      10463                     Blink Fitness   \n11     Bronx      10463                    Vitamin Shoppe   \n12     Bronx      10463                   Parrilla Latina   \n13     Bronx        NaN                         T.J. Maxx   \n14     Bronx      10463                     Boston Market   \n15     Bronx      10463                 Subway Sandwiches   \n16     Bronx      10463                    Baskin-Robbins   \n17     Bronx      10463                Lot Less Closeouts   \n18     Bronx      10463                          GameStop   \n19     Bronx      10463                           TD Bank   \n\n             categories        lat        lng  \n0           Pizza Place  40.874412 -73.910271  \n1           Yoga Studio  40.876844 -73.906204  \n2                 Diner  40.880404 -73.908937  \n3           Coffee Shop  40.877531 -73.905582  \n4            Donut Shop  40.877136 -73.906666  \n5              Pharmacy  40.875467 -73.908906  \n6        Tennis Stadium  40.878628 -73.914568  \n7    Seafood Restaurant  40.877885 -73.905873  \n8           Coffee Shop  40.873755 -73.908613  \n9                   Gym  40.876705 -73.906372  \n10                  Gym  40.877271 -73.905595  \n11      Supplement Shop  40.877160 -73.905632  \n12           Steakhouse  40.877473 -73.906073  \n13     Department Store  40.877232 -73.905042  \n14  American Restaurant  40.877430 -73.905412  \n15       Sandwich Place  40.874667 -73.909586  \n16       Ice Cream Shop  40.877149 -73.906658  \n17       Discount Store  40.878270 -73.905265  \n18     Video Game Store  40.874267 -73.909342  \n19                 Bank  40.879496 -73.909286  "
                    },
                    "execution_count": 61,
                    "metadata": {},
                    "output_type": "execute_result"
                }
            ],
            "source": "venues = results['response']['groups'][0]['items']\n    \nnearby_venues = json_normalize(venues) # flatten JSON\n\n# filter columns\n#filtered_columns = ['venue.Neighborhood','venue.name', 'venue.categories', 'venue.location.lat', 'venue.location.lng']\nfiltered_columns = ['venue.location.city','venue.location.postalCode','venue.name', 'venue.categories', 'venue.location.lat', 'venue.location.lng']\nnearby_venues =nearby_venues.loc[:, filtered_columns]\n\n# filter the category for each row\nnearby_venues['venue.categories'] = nearby_venues.apply(get_category_type, axis=1)\n\n# clean columns\nnearby_venues.columns = [col.split(\".\")[-1] for col in nearby_venues.columns]\n\nnearby_venues.head( 20)"
        },
        {
            "cell_type": "code",
            "execution_count": 63,
            "metadata": {},
            "outputs": [
                {
                    "data": {
                        "text/plain": "(25, 6)"
                    },
                    "execution_count": 63,
                    "metadata": {},
                    "output_type": "execute_result"
                }
            ],
            "source": "nearby_venues.shape\n#print('{} venues were returned by Foursquare.'.format(nearby_venues.shape[0]))"
        },
        {
            "cell_type": "markdown",
            "metadata": {},
            "source": "# count restaurants in categories"
        },
        {
            "cell_type": "code",
            "execution_count": 82,
            "metadata": {},
            "outputs": [
                {
                    "data": {
                        "text/plain": "2"
                    },
                    "execution_count": 82,
                    "metadata": {},
                    "output_type": "execute_result"
                }
            ],
            "source": "\n# function that count RESTAURANT\ndef count_0( data1):\n    x = 0\n    for i in range(len( data1)):\n        y = data1.at[i,\"categories\"].upper()\n        if \"RESTAURANT\" in y:\n            x = x+1\n    return x\n    \ncount_0( nearby_venues)\n\n"
        },
        {
            "cell_type": "markdown",
            "metadata": {},
            "source": "# Let's create a function to repeat the same process to all the neighborhoods"
        },
        {
            "cell_type": "code",
            "execution_count": 105,
            "metadata": {},
            "outputs": [],
            "source": "from pandas import json_normalize # tranform JSON file into a pandas dataframe\n\ndef getNearbyVenues(names, latitudes, longitudes, radius=500):\n    \n    venues_list=[]\n    for name, lat, lng in zip(names, latitudes, longitudes):\n        print(name)\n            \n        # create the API request URL\n        url = 'https://api.foursquare.com/v2/venues/explore?&client_id={}&client_secret={}&v={}&ll={},{}&radius={}&limit={}'.format(\n            CLIENT_ID, \n            CLIENT_SECRET, \n            VERSION, \n            lat, \n            lng, \n            radius, \n            LIMIT)\n            \n        # make the GET request\n        results = requests.get(url).json()[\"response\"]['groups'][0]['items']\n        \n        # return only relevant information for each nearby venue\n        venues_list.append([(\n            name, \n            lat, \n            lng, \n            v['venue']['name'], \n            v['venue']['location']['lat'], \n            v['venue']['location']['lng'],  \n            v['venue']['categories'][0]['name']) for v in results])\n\n    nearby_venues = pd.DataFrame([item for venue_list in venues_list for item in venue_list])\n    nearby_venues.columns = ['Neighborhood', \n                  'Neighborhood Latitude', \n                  'Neighborhood Longitude', \n                  'Venue', \n                  'Venue Latitude', \n                  'Venue Longitude', \n                  'Venue Category']\n    \n    return(nearby_venues)\n"
        },
        {
            "cell_type": "code",
            "execution_count": 106,
            "metadata": {},
            "outputs": [
                {
                    "name": "stdout",
                    "output_type": "stream",
                    "text": "Wakefield\nCo-op City\nEastchester\nFieldston\nRiverdale\nKingsbridge\nMarble Hill\nWoodlawn\nNorwood\nWilliamsbridge\nBaychester\nPelham Parkway\nCity Island\nBedford Park\nUniversity Heights\nMorris Heights\nFordham\nEast Tremont\nWest Farms\nHigh  Bridge\nMelrose\nMott Haven\nPort Morris\nLongwood\nHunts Point\nMorrisania\nSoundview\nClason Point\nThrogs Neck\nCountry Club\nParkchester\nWestchester Square\nVan Nest\nMorris Park\nBelmont\nSpuyten Duyvil\nNorth Riverdale\nPelham Bay\nSchuylerville\nEdgewater Park\nCastle Hill\nOlinville\nPelham Gardens\nConcourse\nUnionport\nEdenwald\nBay Ridge\nBensonhurst\nSunset Park\nGreenpoint\nGravesend\nBrighton Beach\nSheepshead Bay\nManhattan Terrace\nFlatbush\nCrown Heights\nEast Flatbush\nKensington\nWindsor Terrace\nProspect Heights\nBrownsville\nWilliamsburg\nBushwick\nBedford Stuyvesant\nBrooklyn Heights\nCobble Hill\nCarroll Gardens\nRed Hook\nGowanus\nFort Greene\nPark Slope\nCypress Hills\nEast New York\nStarrett City\nCanarsie\nFlatlands\nMill Island\nManhattan Beach\nConey Island\nBath Beach\nBorough Park\nDyker Heights\nGerritsen Beach\nMarine Park\nClinton Hill\nSea Gate\nDowntown\nBoerum Hill\nProspect Lefferts Gardens\nOcean Hill\nCity Line\nBergen Beach\nMidwood\nProspect Park South\nGeorgetown\nEast Williamsburg\nNorth Side\nSouth Side\nOcean Parkway\nFort Hamilton\nChinatown\nWashington Heights\nInwood\nHamilton Heights\nManhattanville\nCentral Harlem\nEast Harlem\nUpper East Side\nYorkville\nLenox Hill\nRoosevelt Island\nUpper West Side\nLincoln Square\nClinton\nMidtown\nMurray Hill\nChelsea\nGreenwich Village\nEast Village\nLower East Side\nTribeca\nLittle Italy\nSoho\nWest Village\nManhattan Valley\nMorningside Heights\nGramercy\nBattery Park City\nFinancial District\nAstoria\nWoodside\nJackson Heights\nElmhurst\nHoward Beach\nCorona\nForest Hills\nKew Gardens\nRichmond Hill\nFlushing\nLong Island City\nSunnyside\nEast Elmhurst\nMaspeth\nRidgewood\nGlendale\nRego Park\nWoodhaven\nOzone Park\nSouth Ozone Park\nCollege Point\nWhitestone\nBayside\nAuburndale\nLittle Neck\nDouglaston\nGlen Oaks\nBellerose\nKew Gardens Hills\nFresh Meadows\nBriarwood\nJamaica Center\nOakland Gardens\nQueens Village\nHollis\nSouth Jamaica\nSt. Albans\nRochdale\nSpringfield Gardens\nCambria Heights\nRosedale\nFar Rockaway\nBroad Channel\nBreezy Point\nSteinway\nBeechhurst\nBay Terrace\nEdgemere\nArverne\nRockaway Beach\nNeponsit\nMurray Hill\nFloral Park\nHolliswood\nJamaica Estates\nQueensboro Hill\nHillcrest\nRavenswood\nLindenwood\nLaurelton\nLefrak City\nBelle Harbor\nRockaway Park\nSomerville\nBrookville\nBellaire\nNorth Corona\nForest Hills Gardens\nSt. George\nNew Brighton\nStapleton\nRosebank\nWest Brighton\nGrymes Hill\nTodt Hill\nSouth Beach\nPort Richmond\nMariner's Harbor\nPort Ivory\nCastleton Corners\nNew Springville\nTravis\nNew Dorp\nOakwood\nGreat Kills\nEltingville\nAnnadale\nWoodrow\nTottenville\nTompkinsville\nSilver Lake\nSunnyside\nDitmas Park\nWingate\nRugby\nPark Hill\nWesterleigh\nGraniteville\nArlington\nArrochar\nGrasmere\nOld Town\nDongan Hills\nMidland Beach\nGrant City\nNew Dorp Beach\nBay Terrace\nHuguenot\nPleasant Plains\nButler Manor\nCharleston\nRossville\nArden Heights\nGreenridge\nHeartland Village\nChelsea\nBloomfield\nBulls Head\nCarnegie Hill\nNoho\nCivic Center\nMidtown South\nRichmond Town\nShore Acres\nClifton\nConcord\nEmerson Hill\nRandall Manor\nHowland Hook\nElm Park\nRemsen Village\nNew Lots\nPaerdegat Basin\nMill Basin\nJamaica Hills\nUtopia\nPomonok\nAstoria Heights\nClaremont Village\nConcourse Village\nMount Eden\nMount Hope\nSutton Place\nHunters Point\nTurtle Bay\nTudor City\nStuyvesant Town\nFlatiron\nSunnyside Gardens\nBlissville\nFulton Ferry\nVinegar Hill\nWeeksville\nBroadway Junction\nDumbo\nManor Heights\nWillowbrook\nSandy Ground\nEgbertville\nRoxbury\nHomecrest\nMiddle Village\nPrince's Bay\nLighthouse Hill\nRichmond Valley\nMalba\nHighland Park\nMadison\nBronxdale\nAllerton\nKingsbridge Heights\nErasmus\nHudson Yards\nHammels\nBayswater\nQueensbridge\nFox Hills\n"
                }
            ],
            "source": "all_venues = getNearbyVenues(names=neighborhoods['Neighborhood'],\n                                   latitudes=neighborhoods['Latitude'],\n                                   longitudes=neighborhoods['Longitude']\n                                  )\n"
        },
        {
            "cell_type": "code",
            "execution_count": 108,
            "metadata": {},
            "outputs": [
                {
                    "name": "stdout",
                    "output_type": "stream",
                    "text": "(9754, 7)\n"
                },
                {
                    "data": {
                        "text/html": "<div>\n<style scoped>\n    .dataframe tbody tr th:only-of-type {\n        vertical-align: middle;\n    }\n\n    .dataframe tbody tr th {\n        vertical-align: top;\n    }\n\n    .dataframe thead th {\n        text-align: right;\n    }\n</style>\n<table border=\"1\" class=\"dataframe\">\n  <thead>\n    <tr style=\"text-align: right;\">\n      <th></th>\n      <th>Neighborhood</th>\n      <th>Neighborhood Latitude</th>\n      <th>Neighborhood Longitude</th>\n      <th>Venue</th>\n      <th>Venue Latitude</th>\n      <th>Venue Longitude</th>\n      <th>Venue Category</th>\n    </tr>\n  </thead>\n  <tbody>\n    <tr>\n      <th>0</th>\n      <td>Wakefield</td>\n      <td>40.894705</td>\n      <td>-73.847201</td>\n      <td>Lollipops Gelato</td>\n      <td>40.894123</td>\n      <td>-73.845892</td>\n      <td>Dessert Shop</td>\n    </tr>\n    <tr>\n      <th>1</th>\n      <td>Wakefield</td>\n      <td>40.894705</td>\n      <td>-73.847201</td>\n      <td>Carvel Ice Cream</td>\n      <td>40.890487</td>\n      <td>-73.848568</td>\n      <td>Ice Cream Shop</td>\n    </tr>\n    <tr>\n      <th>2</th>\n      <td>Wakefield</td>\n      <td>40.894705</td>\n      <td>-73.847201</td>\n      <td>Walgreens</td>\n      <td>40.896528</td>\n      <td>-73.844700</td>\n      <td>Pharmacy</td>\n    </tr>\n    <tr>\n      <th>3</th>\n      <td>Wakefield</td>\n      <td>40.894705</td>\n      <td>-73.847201</td>\n      <td>Rite Aid</td>\n      <td>40.896649</td>\n      <td>-73.844846</td>\n      <td>Pharmacy</td>\n    </tr>\n    <tr>\n      <th>4</th>\n      <td>Wakefield</td>\n      <td>40.894705</td>\n      <td>-73.847201</td>\n      <td>Dunkin'</td>\n      <td>40.890459</td>\n      <td>-73.849089</td>\n      <td>Donut Shop</td>\n    </tr>\n  </tbody>\n</table>\n</div>",
                        "text/plain": "  Neighborhood  Neighborhood Latitude  Neighborhood Longitude  \\\n0    Wakefield              40.894705              -73.847201   \n1    Wakefield              40.894705              -73.847201   \n2    Wakefield              40.894705              -73.847201   \n3    Wakefield              40.894705              -73.847201   \n4    Wakefield              40.894705              -73.847201   \n\n              Venue  Venue Latitude  Venue Longitude  Venue Category  \n0  Lollipops Gelato       40.894123       -73.845892    Dessert Shop  \n1  Carvel Ice Cream       40.890487       -73.848568  Ice Cream Shop  \n2         Walgreens       40.896528       -73.844700        Pharmacy  \n3          Rite Aid       40.896649       -73.844846        Pharmacy  \n4           Dunkin'       40.890459       -73.849089      Donut Shop  "
                    },
                    "execution_count": 108,
                    "metadata": {},
                    "output_type": "execute_result"
                }
            ],
            "source": "print(all_venues.shape)\nall_venues.head()\n"
        },
        {
            "cell_type": "code",
            "execution_count": 109,
            "metadata": {},
            "outputs": [],
            "source": "# save dataframe in file .csv\n#all_venues.to_csv(r'data_22.csv', index=False)\nall_venues.to_csv(r'data_22.csv')\n"
        },
        {
            "cell_type": "code",
            "execution_count": 110,
            "metadata": {},
            "outputs": [
                {
                    "data": {
                        "text/html": "<div>\n<style scoped>\n    .dataframe tbody tr th:only-of-type {\n        vertical-align: middle;\n    }\n\n    .dataframe tbody tr th {\n        vertical-align: top;\n    }\n\n    .dataframe thead th {\n        text-align: right;\n    }\n</style>\n<table border=\"1\" class=\"dataframe\">\n  <thead>\n    <tr style=\"text-align: right;\">\n      <th></th>\n      <th>Neighborhood</th>\n      <th>Neighborhood Latitude</th>\n      <th>Neighborhood Longitude</th>\n      <th>Venue</th>\n      <th>Venue Latitude</th>\n      <th>Venue Longitude</th>\n      <th>Venue Category</th>\n    </tr>\n  </thead>\n  <tbody>\n    <tr>\n      <th>0</th>\n      <td>Wakefield</td>\n      <td>40.894705</td>\n      <td>-73.847201</td>\n      <td>Lollipops Gelato</td>\n      <td>40.894123</td>\n      <td>-73.845892</td>\n      <td>Dessert Shop</td>\n    </tr>\n    <tr>\n      <th>1</th>\n      <td>Wakefield</td>\n      <td>40.894705</td>\n      <td>-73.847201</td>\n      <td>Carvel Ice Cream</td>\n      <td>40.890487</td>\n      <td>-73.848568</td>\n      <td>Ice Cream Shop</td>\n    </tr>\n    <tr>\n      <th>2</th>\n      <td>Wakefield</td>\n      <td>40.894705</td>\n      <td>-73.847201</td>\n      <td>Walgreens</td>\n      <td>40.896528</td>\n      <td>-73.844700</td>\n      <td>Pharmacy</td>\n    </tr>\n    <tr>\n      <th>3</th>\n      <td>Wakefield</td>\n      <td>40.894705</td>\n      <td>-73.847201</td>\n      <td>Rite Aid</td>\n      <td>40.896649</td>\n      <td>-73.844846</td>\n      <td>Pharmacy</td>\n    </tr>\n    <tr>\n      <th>4</th>\n      <td>Wakefield</td>\n      <td>40.894705</td>\n      <td>-73.847201</td>\n      <td>Dunkin'</td>\n      <td>40.890459</td>\n      <td>-73.849089</td>\n      <td>Donut Shop</td>\n    </tr>\n  </tbody>\n</table>\n</div>",
                        "text/plain": "  Neighborhood  Neighborhood Latitude  Neighborhood Longitude  \\\n0    Wakefield              40.894705              -73.847201   \n1    Wakefield              40.894705              -73.847201   \n2    Wakefield              40.894705              -73.847201   \n3    Wakefield              40.894705              -73.847201   \n4    Wakefield              40.894705              -73.847201   \n\n              Venue  Venue Latitude  Venue Longitude  Venue Category  \n0  Lollipops Gelato       40.894123       -73.845892    Dessert Shop  \n1  Carvel Ice Cream       40.890487       -73.848568  Ice Cream Shop  \n2         Walgreens       40.896528       -73.844700        Pharmacy  \n3          Rite Aid       40.896649       -73.844846        Pharmacy  \n4           Dunkin'       40.890459       -73.849089      Donut Shop  "
                    },
                    "execution_count": 110,
                    "metadata": {},
                    "output_type": "execute_result"
                }
            ],
            "source": "# read dataframe from file .csv\nall_venues = pd.read_csv('data_22.csv', index_col=[0])\nall_venues.head()\n"
        },
        {
            "cell_type": "markdown",
            "metadata": {},
            "source": "# drop all rows not RESTAURANT"
        },
        {
            "cell_type": "code",
            "execution_count": 111,
            "metadata": {},
            "outputs": [
                {
                    "data": {
                        "text/html": "<div>\n<style scoped>\n    .dataframe tbody tr th:only-of-type {\n        vertical-align: middle;\n    }\n\n    .dataframe tbody tr th {\n        vertical-align: top;\n    }\n\n    .dataframe thead th {\n        text-align: right;\n    }\n</style>\n<table border=\"1\" class=\"dataframe\">\n  <thead>\n    <tr style=\"text-align: right;\">\n      <th></th>\n      <th>Neighborhood</th>\n      <th>Neighborhood Latitude</th>\n      <th>Neighborhood Longitude</th>\n      <th>Venue</th>\n      <th>Venue Latitude</th>\n      <th>Venue Longitude</th>\n      <th>Venue Category</th>\n      <th>restaurants</th>\n    </tr>\n  </thead>\n  <tbody>\n    <tr>\n      <th>0</th>\n      <td>Wakefield</td>\n      <td>40.894705</td>\n      <td>-73.847201</td>\n      <td>Lollipops Gelato</td>\n      <td>40.894123</td>\n      <td>-73.845892</td>\n      <td>Dessert Shop</td>\n      <td>0</td>\n    </tr>\n    <tr>\n      <th>1</th>\n      <td>Wakefield</td>\n      <td>40.894705</td>\n      <td>-73.847201</td>\n      <td>Carvel Ice Cream</td>\n      <td>40.890487</td>\n      <td>-73.848568</td>\n      <td>Ice Cream Shop</td>\n      <td>0</td>\n    </tr>\n    <tr>\n      <th>2</th>\n      <td>Wakefield</td>\n      <td>40.894705</td>\n      <td>-73.847201</td>\n      <td>Walgreens</td>\n      <td>40.896528</td>\n      <td>-73.844700</td>\n      <td>Pharmacy</td>\n      <td>0</td>\n    </tr>\n    <tr>\n      <th>3</th>\n      <td>Wakefield</td>\n      <td>40.894705</td>\n      <td>-73.847201</td>\n      <td>Rite Aid</td>\n      <td>40.896649</td>\n      <td>-73.844846</td>\n      <td>Pharmacy</td>\n      <td>0</td>\n    </tr>\n    <tr>\n      <th>4</th>\n      <td>Wakefield</td>\n      <td>40.894705</td>\n      <td>-73.847201</td>\n      <td>Dunkin'</td>\n      <td>40.890459</td>\n      <td>-73.849089</td>\n      <td>Donut Shop</td>\n      <td>0</td>\n    </tr>\n  </tbody>\n</table>\n</div>",
                        "text/plain": "  Neighborhood  Neighborhood Latitude  Neighborhood Longitude  \\\n0    Wakefield              40.894705              -73.847201   \n1    Wakefield              40.894705              -73.847201   \n2    Wakefield              40.894705              -73.847201   \n3    Wakefield              40.894705              -73.847201   \n4    Wakefield              40.894705              -73.847201   \n\n              Venue  Venue Latitude  Venue Longitude  Venue Category  \\\n0  Lollipops Gelato       40.894123       -73.845892    Dessert Shop   \n1  Carvel Ice Cream       40.890487       -73.848568  Ice Cream Shop   \n2         Walgreens       40.896528       -73.844700        Pharmacy   \n3          Rite Aid       40.896649       -73.844846        Pharmacy   \n4           Dunkin'       40.890459       -73.849089      Donut Shop   \n\n   restaurants  \n0            0  \n1            0  \n2            0  \n3            0  \n4            0  "
                    },
                    "execution_count": 111,
                    "metadata": {},
                    "output_type": "execute_result"
                }
            ],
            "source": "all_venues['restaurants'] = 0\nall_venues.head()\n\n"
        },
        {
            "cell_type": "code",
            "execution_count": 115,
            "metadata": {},
            "outputs": [
                {
                    "data": {
                        "text/plain": "(2362, 8)"
                    },
                    "execution_count": 115,
                    "metadata": {},
                    "output_type": "execute_result"
                }
            ],
            "source": "for i in range(len( all_venues)):\n    y = all_venues.at[i,\"Venue Category\"].upper()\n    if \"RESTAURANT\" in y:\n        all_venues.at[i,\"restaurants\"] = 1\n    \nres_venues = all_venues.drop(all_venues[all_venues.restaurants < 1].index)\nres_venues = res_venues.reset_index(drop=True)\n#res_venues.head()\nres_venues.shape\n"
        },
        {
            "cell_type": "code",
            "execution_count": 118,
            "metadata": {},
            "outputs": [
                {
                    "data": {
                        "text/html": "<div>\n<style scoped>\n    .dataframe tbody tr th:only-of-type {\n        vertical-align: middle;\n    }\n\n    .dataframe tbody tr th {\n        vertical-align: top;\n    }\n\n    .dataframe thead th {\n        text-align: right;\n    }\n</style>\n<table border=\"1\" class=\"dataframe\">\n  <thead>\n    <tr style=\"text-align: right;\">\n      <th></th>\n      <th>Neighborhood</th>\n      <th>counts</th>\n    </tr>\n  </thead>\n  <tbody>\n    <tr>\n      <th>0</th>\n      <td>Allerton</td>\n      <td>3</td>\n    </tr>\n    <tr>\n      <th>1</th>\n      <td>Annadale</td>\n      <td>2</td>\n    </tr>\n    <tr>\n      <th>2</th>\n      <td>Arlington</td>\n      <td>1</td>\n    </tr>\n    <tr>\n      <th>3</th>\n      <td>Arrochar</td>\n      <td>5</td>\n    </tr>\n    <tr>\n      <th>4</th>\n      <td>Arverne</td>\n      <td>1</td>\n    </tr>\n  </tbody>\n</table>\n</div>",
                        "text/plain": "  Neighborhood  counts\n0     Allerton       3\n1     Annadale       2\n2    Arlington       1\n3     Arrochar       5\n4      Arverne       1"
                    },
                    "execution_count": 118,
                    "metadata": {},
                    "output_type": "execute_result"
                }
            ],
            "source": "re0_venues = res_venues.groupby(['Neighborhood']).size().reset_index(name='counts')\nre0_venues.head()\n#re0_venues.shape"
        },
        {
            "cell_type": "markdown",
            "metadata": {},
            "source": "# combine re0_venues with neighborhoods"
        },
        {
            "cell_type": "code",
            "execution_count": 121,
            "metadata": {},
            "outputs": [
                {
                    "data": {
                        "text/html": "<div>\n<style scoped>\n    .dataframe tbody tr th:only-of-type {\n        vertical-align: middle;\n    }\n\n    .dataframe tbody tr th {\n        vertical-align: top;\n    }\n\n    .dataframe thead th {\n        text-align: right;\n    }\n</style>\n<table border=\"1\" class=\"dataframe\">\n  <thead>\n    <tr style=\"text-align: right;\">\n      <th></th>\n      <th>Borough</th>\n      <th>Neighborhood</th>\n      <th>Latitude</th>\n      <th>Longitude</th>\n      <th>restaurants</th>\n    </tr>\n  </thead>\n  <tbody>\n    <tr>\n      <th>0</th>\n      <td>Bronx</td>\n      <td>Wakefield</td>\n      <td>40.894705</td>\n      <td>-73.847201</td>\n      <td>0</td>\n    </tr>\n    <tr>\n      <th>1</th>\n      <td>Bronx</td>\n      <td>Co-op City</td>\n      <td>40.874294</td>\n      <td>-73.829939</td>\n      <td>0</td>\n    </tr>\n    <tr>\n      <th>2</th>\n      <td>Bronx</td>\n      <td>Eastchester</td>\n      <td>40.887556</td>\n      <td>-73.827806</td>\n      <td>0</td>\n    </tr>\n    <tr>\n      <th>3</th>\n      <td>Bronx</td>\n      <td>Fieldston</td>\n      <td>40.895437</td>\n      <td>-73.905643</td>\n      <td>0</td>\n    </tr>\n    <tr>\n      <th>4</th>\n      <td>Bronx</td>\n      <td>Riverdale</td>\n      <td>40.890834</td>\n      <td>-73.912585</td>\n      <td>0</td>\n    </tr>\n  </tbody>\n</table>\n</div>",
                        "text/plain": "  Borough Neighborhood   Latitude  Longitude  restaurants\n0   Bronx    Wakefield  40.894705 -73.847201            0\n1   Bronx   Co-op City  40.874294 -73.829939            0\n2   Bronx  Eastchester  40.887556 -73.827806            0\n3   Bronx    Fieldston  40.895437 -73.905643            0\n4   Bronx    Riverdale  40.890834 -73.912585            0"
                    },
                    "execution_count": 121,
                    "metadata": {},
                    "output_type": "execute_result"
                }
            ],
            "source": "neighborhoods.restaurants = 0\nneighborhoods.head()"
        },
        {
            "cell_type": "code",
            "execution_count": 134,
            "metadata": {},
            "outputs": [
                {
                    "data": {
                        "text/html": "<div>\n<style scoped>\n    .dataframe tbody tr th:only-of-type {\n        vertical-align: middle;\n    }\n\n    .dataframe tbody tr th {\n        vertical-align: top;\n    }\n\n    .dataframe thead th {\n        text-align: right;\n    }\n</style>\n<table border=\"1\" class=\"dataframe\">\n  <thead>\n    <tr style=\"text-align: right;\">\n      <th></th>\n      <th>Borough</th>\n      <th>Neighborhood</th>\n      <th>Latitude</th>\n      <th>Longitude</th>\n      <th>restaurants</th>\n    </tr>\n  </thead>\n  <tbody>\n    <tr>\n      <th>0</th>\n      <td>Bronx</td>\n      <td>Wakefield</td>\n      <td>40.894705</td>\n      <td>-73.847201</td>\n      <td>0</td>\n    </tr>\n    <tr>\n      <th>1</th>\n      <td>Bronx</td>\n      <td>Co-op City</td>\n      <td>40.874294</td>\n      <td>-73.829939</td>\n      <td>3</td>\n    </tr>\n    <tr>\n      <th>2</th>\n      <td>Bronx</td>\n      <td>Eastchester</td>\n      <td>40.887556</td>\n      <td>-73.827806</td>\n      <td>6</td>\n    </tr>\n    <tr>\n      <th>3</th>\n      <td>Bronx</td>\n      <td>Fieldston</td>\n      <td>40.895437</td>\n      <td>-73.905643</td>\n      <td>0</td>\n    </tr>\n    <tr>\n      <th>4</th>\n      <td>Bronx</td>\n      <td>Riverdale</td>\n      <td>40.890834</td>\n      <td>-73.912585</td>\n      <td>0</td>\n    </tr>\n    <tr>\n      <th>5</th>\n      <td>Bronx</td>\n      <td>Kingsbridge</td>\n      <td>40.881687</td>\n      <td>-73.902818</td>\n      <td>14</td>\n    </tr>\n    <tr>\n      <th>6</th>\n      <td>Manhattan</td>\n      <td>Marble Hill</td>\n      <td>40.876551</td>\n      <td>-73.910660</td>\n      <td>2</td>\n    </tr>\n    <tr>\n      <th>7</th>\n      <td>Bronx</td>\n      <td>Woodlawn</td>\n      <td>40.898273</td>\n      <td>-73.867315</td>\n      <td>2</td>\n    </tr>\n    <tr>\n      <th>8</th>\n      <td>Bronx</td>\n      <td>Norwood</td>\n      <td>40.877224</td>\n      <td>-73.879391</td>\n      <td>7</td>\n    </tr>\n    <tr>\n      <th>9</th>\n      <td>Bronx</td>\n      <td>Williamsbridge</td>\n      <td>40.881039</td>\n      <td>-73.857446</td>\n      <td>1</td>\n    </tr>\n    <tr>\n      <th>10</th>\n      <td>Bronx</td>\n      <td>Baychester</td>\n      <td>40.866858</td>\n      <td>-73.835798</td>\n      <td>4</td>\n    </tr>\n    <tr>\n      <th>11</th>\n      <td>Bronx</td>\n      <td>Pelham Parkway</td>\n      <td>40.857413</td>\n      <td>-73.854756</td>\n      <td>6</td>\n    </tr>\n    <tr>\n      <th>12</th>\n      <td>Bronx</td>\n      <td>City Island</td>\n      <td>40.847247</td>\n      <td>-73.786488</td>\n      <td>6</td>\n    </tr>\n    <tr>\n      <th>13</th>\n      <td>Bronx</td>\n      <td>Bedford Park</td>\n      <td>40.870185</td>\n      <td>-73.885512</td>\n      <td>8</td>\n    </tr>\n    <tr>\n      <th>14</th>\n      <td>Bronx</td>\n      <td>University Heights</td>\n      <td>40.855727</td>\n      <td>-73.910416</td>\n      <td>4</td>\n    </tr>\n    <tr>\n      <th>15</th>\n      <td>Bronx</td>\n      <td>Morris Heights</td>\n      <td>40.847898</td>\n      <td>-73.919672</td>\n      <td>2</td>\n    </tr>\n    <tr>\n      <th>16</th>\n      <td>Bronx</td>\n      <td>Fordham</td>\n      <td>40.860997</td>\n      <td>-73.896427</td>\n      <td>16</td>\n    </tr>\n    <tr>\n      <th>17</th>\n      <td>Bronx</td>\n      <td>East Tremont</td>\n      <td>40.842696</td>\n      <td>-73.887356</td>\n      <td>3</td>\n    </tr>\n    <tr>\n      <th>18</th>\n      <td>Bronx</td>\n      <td>West Farms</td>\n      <td>40.839475</td>\n      <td>-73.877745</td>\n      <td>1</td>\n    </tr>\n    <tr>\n      <th>19</th>\n      <td>Bronx</td>\n      <td>High  Bridge</td>\n      <td>40.836623</td>\n      <td>-73.926102</td>\n      <td>6</td>\n    </tr>\n  </tbody>\n</table>\n</div>",
                        "text/plain": "      Borough        Neighborhood   Latitude  Longitude  restaurants\n0       Bronx           Wakefield  40.894705 -73.847201            0\n1       Bronx          Co-op City  40.874294 -73.829939            3\n2       Bronx         Eastchester  40.887556 -73.827806            6\n3       Bronx           Fieldston  40.895437 -73.905643            0\n4       Bronx           Riverdale  40.890834 -73.912585            0\n5       Bronx         Kingsbridge  40.881687 -73.902818           14\n6   Manhattan         Marble Hill  40.876551 -73.910660            2\n7       Bronx            Woodlawn  40.898273 -73.867315            2\n8       Bronx             Norwood  40.877224 -73.879391            7\n9       Bronx      Williamsbridge  40.881039 -73.857446            1\n10      Bronx          Baychester  40.866858 -73.835798            4\n11      Bronx      Pelham Parkway  40.857413 -73.854756            6\n12      Bronx         City Island  40.847247 -73.786488            6\n13      Bronx        Bedford Park  40.870185 -73.885512            8\n14      Bronx  University Heights  40.855727 -73.910416            4\n15      Bronx      Morris Heights  40.847898 -73.919672            2\n16      Bronx             Fordham  40.860997 -73.896427           16\n17      Bronx        East Tremont  40.842696 -73.887356            3\n18      Bronx          West Farms  40.839475 -73.877745            1\n19      Bronx        High  Bridge  40.836623 -73.926102            6"
                    },
                    "execution_count": 134,
                    "metadata": {},
                    "output_type": "execute_result"
                }
            ],
            "source": "res_neighborhoods = neighborhoods.copy()\nres_neighborhoods['restaurants'] = res_neighborhoods['Neighborhood'].map(re0_venues.set_index('Neighborhood')['counts'])\nres_neighborhoods['restaurants'].fillna(0, inplace=True)\nres_neighborhoods['restaurants'] = res_neighborhoods['restaurants'].astype(int)\nres_neighborhoods.head(20)"
        },
        {
            "cell_type": "code",
            "execution_count": 135,
            "metadata": {},
            "outputs": [],
            "source": "# save dataframe in file .csv\n#res_neighborhoods.to_csv(r'data_33.csv', index=False)\nres_neighborhoods.to_csv(r'data_33.csv')\n"
        },
        {
            "cell_type": "code",
            "execution_count": 136,
            "metadata": {},
            "outputs": [
                {
                    "data": {
                        "text/html": "<div>\n<style scoped>\n    .dataframe tbody tr th:only-of-type {\n        vertical-align: middle;\n    }\n\n    .dataframe tbody tr th {\n        vertical-align: top;\n    }\n\n    .dataframe thead th {\n        text-align: right;\n    }\n</style>\n<table border=\"1\" class=\"dataframe\">\n  <thead>\n    <tr style=\"text-align: right;\">\n      <th></th>\n      <th>Borough</th>\n      <th>Neighborhood</th>\n      <th>Latitude</th>\n      <th>Longitude</th>\n      <th>restaurants</th>\n    </tr>\n  </thead>\n  <tbody>\n    <tr>\n      <th>0</th>\n      <td>Bronx</td>\n      <td>Wakefield</td>\n      <td>40.894705</td>\n      <td>-73.847201</td>\n      <td>0</td>\n    </tr>\n    <tr>\n      <th>1</th>\n      <td>Bronx</td>\n      <td>Co-op City</td>\n      <td>40.874294</td>\n      <td>-73.829939</td>\n      <td>3</td>\n    </tr>\n    <tr>\n      <th>2</th>\n      <td>Bronx</td>\n      <td>Eastchester</td>\n      <td>40.887556</td>\n      <td>-73.827806</td>\n      <td>6</td>\n    </tr>\n    <tr>\n      <th>3</th>\n      <td>Bronx</td>\n      <td>Fieldston</td>\n      <td>40.895437</td>\n      <td>-73.905643</td>\n      <td>0</td>\n    </tr>\n    <tr>\n      <th>4</th>\n      <td>Bronx</td>\n      <td>Riverdale</td>\n      <td>40.890834</td>\n      <td>-73.912585</td>\n      <td>0</td>\n    </tr>\n  </tbody>\n</table>\n</div>",
                        "text/plain": "  Borough Neighborhood   Latitude  Longitude  restaurants\n0   Bronx    Wakefield  40.894705 -73.847201            0\n1   Bronx   Co-op City  40.874294 -73.829939            3\n2   Bronx  Eastchester  40.887556 -73.827806            6\n3   Bronx    Fieldston  40.895437 -73.905643            0\n4   Bronx    Riverdale  40.890834 -73.912585            0"
                    },
                    "execution_count": 136,
                    "metadata": {},
                    "output_type": "execute_result"
                }
            ],
            "source": "# read dataframe from file .csv\nres_neighborhoods = pd.read_csv('data_33.csv', index_col=[0])\nres_neighborhoods.head()\n"
        },
        {
            "cell_type": "code",
            "execution_count": 3,
            "metadata": {},
            "outputs": [
                {
                    "name": "stdout",
                    "output_type": "stream",
                    "text": "Hello Capstone Project Course!\n"
                },
                {
                    "data": {
                        "text/html": "<div>\n<style scoped>\n    .dataframe tbody tr th:only-of-type {\n        vertical-align: middle;\n    }\n\n    .dataframe tbody tr th {\n        vertical-align: top;\n    }\n\n    .dataframe thead th {\n        text-align: right;\n    }\n</style>\n<table border=\"1\" class=\"dataframe\">\n  <thead>\n    <tr style=\"text-align: right;\">\n      <th></th>\n      <th>Borough</th>\n      <th>Neighborhood</th>\n      <th>Latitude</th>\n      <th>Longitude</th>\n      <th>restaurants</th>\n    </tr>\n  </thead>\n  <tbody>\n    <tr>\n      <th>0</th>\n      <td>Bronx</td>\n      <td>Wakefield</td>\n      <td>40.894705</td>\n      <td>-73.847201</td>\n      <td>0</td>\n    </tr>\n    <tr>\n      <th>1</th>\n      <td>Bronx</td>\n      <td>Co-op City</td>\n      <td>40.874294</td>\n      <td>-73.829939</td>\n      <td>3</td>\n    </tr>\n    <tr>\n      <th>2</th>\n      <td>Bronx</td>\n      <td>Eastchester</td>\n      <td>40.887556</td>\n      <td>-73.827806</td>\n      <td>6</td>\n    </tr>\n    <tr>\n      <th>3</th>\n      <td>Bronx</td>\n      <td>Fieldston</td>\n      <td>40.895437</td>\n      <td>-73.905643</td>\n      <td>0</td>\n    </tr>\n    <tr>\n      <th>4</th>\n      <td>Bronx</td>\n      <td>Riverdale</td>\n      <td>40.890834</td>\n      <td>-73.912585</td>\n      <td>0</td>\n    </tr>\n  </tbody>\n</table>\n</div>",
                        "text/plain": "  Borough Neighborhood   Latitude  Longitude  restaurants\n0   Bronx    Wakefield  40.894705 -73.847201            0\n1   Bronx   Co-op City  40.874294 -73.829939            3\n2   Bronx  Eastchester  40.887556 -73.827806            6\n3   Bronx    Fieldston  40.895437 -73.905643            0\n4   Bronx    Riverdale  40.890834 -73.912585            0"
                    },
                    "execution_count": 3,
                    "metadata": {},
                    "output_type": "execute_result"
                }
            ],
            "source": "import pandas as pd\nimport numpy  as np\nprint(\"Hello Capstone Project Course!\")\n\n#res_neighborhoods.shape\n# read dataframe from file .csv\nres_neighborhoods = pd.read_csv('data_33.csv', index_col=[0])\nres_neighborhoods.head()\n"
        },
        {
            "cell_type": "code",
            "execution_count": 4,
            "metadata": {},
            "outputs": [
                {
                    "data": {
                        "text/html": "<div>\n<style scoped>\n    .dataframe tbody tr th:only-of-type {\n        vertical-align: middle;\n    }\n\n    .dataframe tbody tr th {\n        vertical-align: top;\n    }\n\n    .dataframe thead th {\n        text-align: right;\n    }\n</style>\n<table border=\"1\" class=\"dataframe\">\n  <thead>\n    <tr style=\"text-align: right;\">\n      <th></th>\n      <th>Borough</th>\n      <th>Population</th>\n      <th>Gross Domestic Product</th>\n      <th>Land area</th>\n      <th>latitude</th>\n      <th>longitude</th>\n    </tr>\n  </thead>\n  <tbody>\n    <tr>\n      <th>0</th>\n      <td>Brooklyn</td>\n      <td>2582830</td>\n      <td>91.559</td>\n      <td>70.82</td>\n      <td>40.650104</td>\n      <td>-73.949582</td>\n    </tr>\n    <tr>\n      <th>1</th>\n      <td>Manhattan</td>\n      <td>1628701</td>\n      <td>600.244</td>\n      <td>22.83</td>\n      <td>40.789624</td>\n      <td>-73.959894</td>\n    </tr>\n    <tr>\n      <th>2</th>\n      <td>Queens</td>\n      <td>2278906</td>\n      <td>93.310</td>\n      <td>108.53</td>\n      <td>40.749824</td>\n      <td>-73.797634</td>\n    </tr>\n    <tr>\n      <th>3</th>\n      <td>Staten Island</td>\n      <td>476179</td>\n      <td>14.514</td>\n      <td>58.37</td>\n      <td>40.583456</td>\n      <td>-74.149605</td>\n    </tr>\n    <tr>\n      <th>4</th>\n      <td>The Bronx</td>\n      <td>1432132</td>\n      <td>42.695</td>\n      <td>42.10</td>\n      <td>40.846651</td>\n      <td>-73.878594</td>\n    </tr>\n  </tbody>\n</table>\n</div>",
                        "text/plain": "         Borough  Population  Gross Domestic Product  Land area   latitude  \\\n0       Brooklyn     2582830                  91.559      70.82  40.650104   \n1      Manhattan     1628701                 600.244      22.83  40.789624   \n2         Queens     2278906                  93.310     108.53  40.749824   \n3  Staten Island      476179                  14.514      58.37  40.583456   \n4      The Bronx     1432132                  42.695      42.10  40.846651   \n\n   longitude  \n0 -73.949582  \n1 -73.959894  \n2 -73.797634  \n3 -74.149605  \n4 -73.878594  "
                    },
                    "execution_count": 4,
                    "metadata": {},
                    "output_type": "execute_result"
                }
            ],
            "source": "# read dataframe from file .csv\n#df2 = pd.read_csv('data_00.csv', index_col=None, header=0)\ndf2 = pd.read_csv('data_00.csv', index_col=[0])\ndf2\n"
        },
        {
            "cell_type": "code",
            "execution_count": 6,
            "metadata": {},
            "outputs": [
                {
                    "data": {
                        "text/html": "<div>\n<style scoped>\n    .dataframe tbody tr th:only-of-type {\n        vertical-align: middle;\n    }\n\n    .dataframe tbody tr th {\n        vertical-align: top;\n    }\n\n    .dataframe thead th {\n        text-align: right;\n    }\n</style>\n<table border=\"1\" class=\"dataframe\">\n  <thead>\n    <tr style=\"text-align: right;\">\n      <th></th>\n      <th>Borough</th>\n      <th>Neighborhood</th>\n      <th>Latitude</th>\n      <th>Longitude</th>\n      <th>restaurants</th>\n      <th>Gross Domestic Product</th>\n      <th>Population</th>\n    </tr>\n  </thead>\n  <tbody>\n    <tr>\n      <th>0</th>\n      <td>Bronx</td>\n      <td>Wakefield</td>\n      <td>40.894705</td>\n      <td>-73.847201</td>\n      <td>0</td>\n      <td>0.0</td>\n      <td>0</td>\n    </tr>\n    <tr>\n      <th>1</th>\n      <td>Bronx</td>\n      <td>Co-op City</td>\n      <td>40.874294</td>\n      <td>-73.829939</td>\n      <td>3</td>\n      <td>0.0</td>\n      <td>0</td>\n    </tr>\n    <tr>\n      <th>2</th>\n      <td>Bronx</td>\n      <td>Eastchester</td>\n      <td>40.887556</td>\n      <td>-73.827806</td>\n      <td>6</td>\n      <td>0.0</td>\n      <td>0</td>\n    </tr>\n    <tr>\n      <th>3</th>\n      <td>Bronx</td>\n      <td>Fieldston</td>\n      <td>40.895437</td>\n      <td>-73.905643</td>\n      <td>0</td>\n      <td>0.0</td>\n      <td>0</td>\n    </tr>\n    <tr>\n      <th>4</th>\n      <td>Bronx</td>\n      <td>Riverdale</td>\n      <td>40.890834</td>\n      <td>-73.912585</td>\n      <td>0</td>\n      <td>0.0</td>\n      <td>0</td>\n    </tr>\n  </tbody>\n</table>\n</div>",
                        "text/plain": "  Borough Neighborhood   Latitude  Longitude  restaurants  \\\n0   Bronx    Wakefield  40.894705 -73.847201            0   \n1   Bronx   Co-op City  40.874294 -73.829939            3   \n2   Bronx  Eastchester  40.887556 -73.827806            6   \n3   Bronx    Fieldston  40.895437 -73.905643            0   \n4   Bronx    Riverdale  40.890834 -73.912585            0   \n\n   Gross Domestic Product  Population  \n0                     0.0           0  \n1                     0.0           0  \n2                     0.0           0  \n3                     0.0           0  \n4                     0.0           0  "
                    },
                    "execution_count": 6,
                    "metadata": {},
                    "output_type": "execute_result"
                }
            ],
            "source": "re1_neighborhoods = res_neighborhoods.copy()\nre1_neighborhoods['Gross Domestic Product'] = 000000.000\nre1_neighborhoods['Population'] = 000000000\nre1_neighborhoods.head()\n#re1_neighborhoods.shape"
        },
        {
            "cell_type": "markdown",
            "metadata": {},
            "source": "# combine re1_neighborhoods with df2"
        },
        {
            "cell_type": "code",
            "execution_count": 12,
            "metadata": {},
            "outputs": [
                {
                    "data": {
                        "text/html": "<div>\n<style scoped>\n    .dataframe tbody tr th:only-of-type {\n        vertical-align: middle;\n    }\n\n    .dataframe tbody tr th {\n        vertical-align: top;\n    }\n\n    .dataframe thead th {\n        text-align: right;\n    }\n</style>\n<table border=\"1\" class=\"dataframe\">\n  <thead>\n    <tr style=\"text-align: right;\">\n      <th></th>\n      <th>Borough</th>\n      <th>Neighborhood</th>\n      <th>Latitude</th>\n      <th>Longitude</th>\n      <th>restaurants</th>\n      <th>Gross Domestic Product</th>\n      <th>Population</th>\n      <th>Rating</th>\n    </tr>\n  </thead>\n  <tbody>\n    <tr>\n      <th>0</th>\n      <td>Bronx</td>\n      <td>Wakefield</td>\n      <td>40.894705</td>\n      <td>-73.847201</td>\n      <td>0</td>\n      <td>42.695</td>\n      <td>1432132</td>\n      <td>0.0</td>\n    </tr>\n    <tr>\n      <th>1</th>\n      <td>Bronx</td>\n      <td>Co-op City</td>\n      <td>40.874294</td>\n      <td>-73.829939</td>\n      <td>3</td>\n      <td>42.695</td>\n      <td>1432132</td>\n      <td>0.0</td>\n    </tr>\n    <tr>\n      <th>2</th>\n      <td>Bronx</td>\n      <td>Eastchester</td>\n      <td>40.887556</td>\n      <td>-73.827806</td>\n      <td>6</td>\n      <td>42.695</td>\n      <td>1432132</td>\n      <td>0.0</td>\n    </tr>\n    <tr>\n      <th>3</th>\n      <td>Bronx</td>\n      <td>Fieldston</td>\n      <td>40.895437</td>\n      <td>-73.905643</td>\n      <td>0</td>\n      <td>42.695</td>\n      <td>1432132</td>\n      <td>0.0</td>\n    </tr>\n    <tr>\n      <th>4</th>\n      <td>Bronx</td>\n      <td>Riverdale</td>\n      <td>40.890834</td>\n      <td>-73.912585</td>\n      <td>0</td>\n      <td>42.695</td>\n      <td>1432132</td>\n      <td>0.0</td>\n    </tr>\n    <tr>\n      <th>5</th>\n      <td>Bronx</td>\n      <td>Kingsbridge</td>\n      <td>40.881687</td>\n      <td>-73.902818</td>\n      <td>14</td>\n      <td>42.695</td>\n      <td>1432132</td>\n      <td>0.0</td>\n    </tr>\n    <tr>\n      <th>6</th>\n      <td>Manhattan</td>\n      <td>Marble Hill</td>\n      <td>40.876551</td>\n      <td>-73.910660</td>\n      <td>2</td>\n      <td>600.244</td>\n      <td>1628701</td>\n      <td>0.0</td>\n    </tr>\n    <tr>\n      <th>7</th>\n      <td>Bronx</td>\n      <td>Woodlawn</td>\n      <td>40.898273</td>\n      <td>-73.867315</td>\n      <td>2</td>\n      <td>42.695</td>\n      <td>1432132</td>\n      <td>0.0</td>\n    </tr>\n    <tr>\n      <th>8</th>\n      <td>Bronx</td>\n      <td>Norwood</td>\n      <td>40.877224</td>\n      <td>-73.879391</td>\n      <td>7</td>\n      <td>42.695</td>\n      <td>1432132</td>\n      <td>0.0</td>\n    </tr>\n    <tr>\n      <th>9</th>\n      <td>Bronx</td>\n      <td>Williamsbridge</td>\n      <td>40.881039</td>\n      <td>-73.857446</td>\n      <td>1</td>\n      <td>42.695</td>\n      <td>1432132</td>\n      <td>0.0</td>\n    </tr>\n    <tr>\n      <th>10</th>\n      <td>Bronx</td>\n      <td>Baychester</td>\n      <td>40.866858</td>\n      <td>-73.835798</td>\n      <td>4</td>\n      <td>42.695</td>\n      <td>1432132</td>\n      <td>0.0</td>\n    </tr>\n    <tr>\n      <th>11</th>\n      <td>Bronx</td>\n      <td>Pelham Parkway</td>\n      <td>40.857413</td>\n      <td>-73.854756</td>\n      <td>6</td>\n      <td>42.695</td>\n      <td>1432132</td>\n      <td>0.0</td>\n    </tr>\n    <tr>\n      <th>12</th>\n      <td>Bronx</td>\n      <td>City Island</td>\n      <td>40.847247</td>\n      <td>-73.786488</td>\n      <td>6</td>\n      <td>42.695</td>\n      <td>1432132</td>\n      <td>0.0</td>\n    </tr>\n    <tr>\n      <th>13</th>\n      <td>Bronx</td>\n      <td>Bedford Park</td>\n      <td>40.870185</td>\n      <td>-73.885512</td>\n      <td>8</td>\n      <td>42.695</td>\n      <td>1432132</td>\n      <td>0.0</td>\n    </tr>\n    <tr>\n      <th>14</th>\n      <td>Bronx</td>\n      <td>University Heights</td>\n      <td>40.855727</td>\n      <td>-73.910416</td>\n      <td>4</td>\n      <td>42.695</td>\n      <td>1432132</td>\n      <td>0.0</td>\n    </tr>\n    <tr>\n      <th>15</th>\n      <td>Bronx</td>\n      <td>Morris Heights</td>\n      <td>40.847898</td>\n      <td>-73.919672</td>\n      <td>2</td>\n      <td>42.695</td>\n      <td>1432132</td>\n      <td>0.0</td>\n    </tr>\n    <tr>\n      <th>16</th>\n      <td>Bronx</td>\n      <td>Fordham</td>\n      <td>40.860997</td>\n      <td>-73.896427</td>\n      <td>16</td>\n      <td>42.695</td>\n      <td>1432132</td>\n      <td>0.0</td>\n    </tr>\n    <tr>\n      <th>17</th>\n      <td>Bronx</td>\n      <td>East Tremont</td>\n      <td>40.842696</td>\n      <td>-73.887356</td>\n      <td>3</td>\n      <td>42.695</td>\n      <td>1432132</td>\n      <td>0.0</td>\n    </tr>\n    <tr>\n      <th>18</th>\n      <td>Bronx</td>\n      <td>West Farms</td>\n      <td>40.839475</td>\n      <td>-73.877745</td>\n      <td>1</td>\n      <td>42.695</td>\n      <td>1432132</td>\n      <td>0.0</td>\n    </tr>\n    <tr>\n      <th>19</th>\n      <td>Bronx</td>\n      <td>High  Bridge</td>\n      <td>40.836623</td>\n      <td>-73.926102</td>\n      <td>6</td>\n      <td>42.695</td>\n      <td>1432132</td>\n      <td>0.0</td>\n    </tr>\n  </tbody>\n</table>\n</div>",
                        "text/plain": "      Borough        Neighborhood   Latitude  Longitude  restaurants  \\\n0       Bronx           Wakefield  40.894705 -73.847201            0   \n1       Bronx          Co-op City  40.874294 -73.829939            3   \n2       Bronx         Eastchester  40.887556 -73.827806            6   \n3       Bronx           Fieldston  40.895437 -73.905643            0   \n4       Bronx           Riverdale  40.890834 -73.912585            0   \n5       Bronx         Kingsbridge  40.881687 -73.902818           14   \n6   Manhattan         Marble Hill  40.876551 -73.910660            2   \n7       Bronx            Woodlawn  40.898273 -73.867315            2   \n8       Bronx             Norwood  40.877224 -73.879391            7   \n9       Bronx      Williamsbridge  40.881039 -73.857446            1   \n10      Bronx          Baychester  40.866858 -73.835798            4   \n11      Bronx      Pelham Parkway  40.857413 -73.854756            6   \n12      Bronx         City Island  40.847247 -73.786488            6   \n13      Bronx        Bedford Park  40.870185 -73.885512            8   \n14      Bronx  University Heights  40.855727 -73.910416            4   \n15      Bronx      Morris Heights  40.847898 -73.919672            2   \n16      Bronx             Fordham  40.860997 -73.896427           16   \n17      Bronx        East Tremont  40.842696 -73.887356            3   \n18      Bronx          West Farms  40.839475 -73.877745            1   \n19      Bronx        High  Bridge  40.836623 -73.926102            6   \n\n    Gross Domestic Product  Population  Rating  \n0                   42.695     1432132     0.0  \n1                   42.695     1432132     0.0  \n2                   42.695     1432132     0.0  \n3                   42.695     1432132     0.0  \n4                   42.695     1432132     0.0  \n5                   42.695     1432132     0.0  \n6                  600.244     1628701     0.0  \n7                   42.695     1432132     0.0  \n8                   42.695     1432132     0.0  \n9                   42.695     1432132     0.0  \n10                  42.695     1432132     0.0  \n11                  42.695     1432132     0.0  \n12                  42.695     1432132     0.0  \n13                  42.695     1432132     0.0  \n14                  42.695     1432132     0.0  \n15                  42.695     1432132     0.0  \n16                  42.695     1432132     0.0  \n17                  42.695     1432132     0.0  \n18                  42.695     1432132     0.0  \n19                  42.695     1432132     0.0  "
                    },
                    "execution_count": 12,
                    "metadata": {},
                    "output_type": "execute_result"
                }
            ],
            "source": "df2.at[4,\"Borough\"] = re1_neighborhoods.at[0,\"Borough\"]\n\n\nre1_neighborhoods['Gross Domestic Product'] = re1_neighborhoods['Borough'].map(df2.set_index('Borough')['Gross Domestic Product'])\nre1_neighborhoods['Neighborhood'].fillna(0, inplace=True)\n\nre1_neighborhoods['Population'] = re1_neighborhoods['Borough'].map(df2.set_index('Borough')['Population'])\nre1_neighborhoods['Neighborhood'].fillna(0, inplace=True)\n#re1_neighborhoods.head(20)\n\n# calculated new field Rating\nre1_neighborhoods['Rating'] = 000000.000\n\nre1_neighborhoods.head(20)\n"
        },
        {
            "cell_type": "markdown",
            "metadata": {},
            "source": "# calculated new field Rating"
        },
        {
            "cell_type": "code",
            "execution_count": 21,
            "metadata": {},
            "outputs": [
                {
                    "data": {
                        "text/html": "<div>\n<style scoped>\n    .dataframe tbody tr th:only-of-type {\n        vertical-align: middle;\n    }\n\n    .dataframe tbody tr th {\n        vertical-align: top;\n    }\n\n    .dataframe thead th {\n        text-align: right;\n    }\n</style>\n<table border=\"1\" class=\"dataframe\">\n  <thead>\n    <tr style=\"text-align: right;\">\n      <th></th>\n      <th>index</th>\n      <th>Borough</th>\n      <th>Neighborhood</th>\n      <th>Latitude</th>\n      <th>Longitude</th>\n      <th>restaurants</th>\n      <th>Gross Domestic Product</th>\n      <th>Population</th>\n      <th>Rating</th>\n    </tr>\n  </thead>\n  <tbody>\n    <tr>\n      <th>0</th>\n      <td>275</td>\n      <td>Manhattan</td>\n      <td>Stuyvesant Town</td>\n      <td>40.731000</td>\n      <td>-73.974052</td>\n      <td>1</td>\n      <td>600.244</td>\n      <td>1628701</td>\n      <td>108466681</td>\n    </tr>\n    <tr>\n      <th>1</th>\n      <td>6</td>\n      <td>Manhattan</td>\n      <td>Marble Hill</td>\n      <td>40.876551</td>\n      <td>-73.910660</td>\n      <td>2</td>\n      <td>600.244</td>\n      <td>1628701</td>\n      <td>97634173</td>\n    </tr>\n    <tr>\n      <th>2</th>\n      <td>110</td>\n      <td>Manhattan</td>\n      <td>Roosevelt Island</td>\n      <td>40.762160</td>\n      <td>-73.949168</td>\n      <td>3</td>\n      <td>600.244</td>\n      <td>1628701</td>\n      <td>88768875</td>\n    </tr>\n    <tr>\n      <th>3</th>\n      <td>127</td>\n      <td>Manhattan</td>\n      <td>Battery Park City</td>\n      <td>40.711932</td>\n      <td>-74.016869</td>\n      <td>3</td>\n      <td>600.244</td>\n      <td>1628701</td>\n      <td>88768875</td>\n    </tr>\n    <tr>\n      <th>4</th>\n      <td>301</td>\n      <td>Manhattan</td>\n      <td>Hudson Yards</td>\n      <td>40.756658</td>\n      <td>-74.000111</td>\n      <td>9</td>\n      <td>600.244</td>\n      <td>1628701</td>\n      <td>57462756</td>\n    </tr>\n    <tr>\n      <th>5</th>\n      <td>125</td>\n      <td>Manhattan</td>\n      <td>Morningside Heights</td>\n      <td>40.808000</td>\n      <td>-73.963896</td>\n      <td>10</td>\n      <td>600.244</td>\n      <td>1628701</td>\n      <td>54272697</td>\n    </tr>\n    <tr>\n      <th>6</th>\n      <td>126</td>\n      <td>Manhattan</td>\n      <td>Gramercy</td>\n      <td>40.737210</td>\n      <td>-73.981376</td>\n      <td>11</td>\n      <td>600.244</td>\n      <td>1628701</td>\n      <td>51418203</td>\n    </tr>\n    <tr>\n      <th>7</th>\n      <td>112</td>\n      <td>Manhattan</td>\n      <td>Lincoln Square</td>\n      <td>40.773529</td>\n      <td>-73.985338</td>\n      <td>13</td>\n      <td>600.244</td>\n      <td>1628701</td>\n      <td>46524278</td>\n    </tr>\n    <tr>\n      <th>8</th>\n      <td>119</td>\n      <td>Manhattan</td>\n      <td>Lower East Side</td>\n      <td>40.717807</td>\n      <td>-73.980890</td>\n      <td>13</td>\n      <td>600.244</td>\n      <td>1628701</td>\n      <td>46524278</td>\n    </tr>\n    <tr>\n      <th>9</th>\n      <td>124</td>\n      <td>Manhattan</td>\n      <td>Manhattan Valley</td>\n      <td>40.797307</td>\n      <td>-73.964286</td>\n      <td>14</td>\n      <td>600.244</td>\n      <td>1628701</td>\n      <td>44410794</td>\n    </tr>\n    <tr>\n      <th>10</th>\n      <td>120</td>\n      <td>Manhattan</td>\n      <td>Tribeca</td>\n      <td>40.721522</td>\n      <td>-74.010683</td>\n      <td>15</td>\n      <td>600.244</td>\n      <td>1628701</td>\n      <td>42480986</td>\n    </tr>\n    <tr>\n      <th>11</th>\n      <td>105</td>\n      <td>Manhattan</td>\n      <td>Central Harlem</td>\n      <td>40.815976</td>\n      <td>-73.943211</td>\n      <td>15</td>\n      <td>600.244</td>\n      <td>1628701</td>\n      <td>42480986</td>\n    </tr>\n    <tr>\n      <th>12</th>\n      <td>106</td>\n      <td>Manhattan</td>\n      <td>East Harlem</td>\n      <td>40.792249</td>\n      <td>-73.944182</td>\n      <td>15</td>\n      <td>600.244</td>\n      <td>1628701</td>\n      <td>42480986</td>\n    </tr>\n    <tr>\n      <th>13</th>\n      <td>276</td>\n      <td>Manhattan</td>\n      <td>Flatiron</td>\n      <td>40.739673</td>\n      <td>-73.990947</td>\n      <td>16</td>\n      <td>600.244</td>\n      <td>1628701</td>\n      <td>40711909</td>\n    </tr>\n    <tr>\n      <th>14</th>\n      <td>113</td>\n      <td>Manhattan</td>\n      <td>Clinton</td>\n      <td>40.759101</td>\n      <td>-73.996119</td>\n      <td>17</td>\n      <td>600.244</td>\n      <td>1628701</td>\n      <td>39084283</td>\n    </tr>\n    <tr>\n      <th>15</th>\n      <td>102</td>\n      <td>Manhattan</td>\n      <td>Inwood</td>\n      <td>40.867684</td>\n      <td>-73.921210</td>\n      <td>17</td>\n      <td>600.244</td>\n      <td>1628701</td>\n      <td>39084283</td>\n    </tr>\n    <tr>\n      <th>16</th>\n      <td>103</td>\n      <td>Manhattan</td>\n      <td>Hamilton Heights</td>\n      <td>40.823604</td>\n      <td>-73.949688</td>\n      <td>17</td>\n      <td>600.244</td>\n      <td>1628701</td>\n      <td>39084283</td>\n    </tr>\n    <tr>\n      <th>17</th>\n      <td>104</td>\n      <td>Manhattan</td>\n      <td>Manhattanville</td>\n      <td>40.816934</td>\n      <td>-73.957385</td>\n      <td>17</td>\n      <td>600.244</td>\n      <td>1628701</td>\n      <td>39084283</td>\n    </tr>\n    <tr>\n      <th>18</th>\n      <td>128</td>\n      <td>Manhattan</td>\n      <td>Financial District</td>\n      <td>40.707107</td>\n      <td>-74.010665</td>\n      <td>18</td>\n      <td>600.244</td>\n      <td>1628701</td>\n      <td>37581797</td>\n    </tr>\n    <tr>\n      <th>19</th>\n      <td>116</td>\n      <td>Manhattan</td>\n      <td>Chelsea</td>\n      <td>40.744035</td>\n      <td>-74.003116</td>\n      <td>19</td>\n      <td>600.244</td>\n      <td>1628701</td>\n      <td>36190552</td>\n    </tr>\n  </tbody>\n</table>\n</div>",
                        "text/plain": "    index    Borough         Neighborhood   Latitude  Longitude  restaurants  \\\n0     275  Manhattan      Stuyvesant Town  40.731000 -73.974052            1   \n1       6  Manhattan          Marble Hill  40.876551 -73.910660            2   \n2     110  Manhattan     Roosevelt Island  40.762160 -73.949168            3   \n3     127  Manhattan    Battery Park City  40.711932 -74.016869            3   \n4     301  Manhattan         Hudson Yards  40.756658 -74.000111            9   \n5     125  Manhattan  Morningside Heights  40.808000 -73.963896           10   \n6     126  Manhattan             Gramercy  40.737210 -73.981376           11   \n7     112  Manhattan       Lincoln Square  40.773529 -73.985338           13   \n8     119  Manhattan      Lower East Side  40.717807 -73.980890           13   \n9     124  Manhattan     Manhattan Valley  40.797307 -73.964286           14   \n10    120  Manhattan              Tribeca  40.721522 -74.010683           15   \n11    105  Manhattan       Central Harlem  40.815976 -73.943211           15   \n12    106  Manhattan          East Harlem  40.792249 -73.944182           15   \n13    276  Manhattan             Flatiron  40.739673 -73.990947           16   \n14    113  Manhattan              Clinton  40.759101 -73.996119           17   \n15    102  Manhattan               Inwood  40.867684 -73.921210           17   \n16    103  Manhattan     Hamilton Heights  40.823604 -73.949688           17   \n17    104  Manhattan       Manhattanville  40.816934 -73.957385           17   \n18    128  Manhattan   Financial District  40.707107 -74.010665           18   \n19    116  Manhattan              Chelsea  40.744035 -74.003116           19   \n\n    Gross Domestic Product  Population     Rating  \n0                  600.244     1628701  108466681  \n1                  600.244     1628701   97634173  \n2                  600.244     1628701   88768875  \n3                  600.244     1628701   88768875  \n4                  600.244     1628701   57462756  \n5                  600.244     1628701   54272697  \n6                  600.244     1628701   51418203  \n7                  600.244     1628701   46524278  \n8                  600.244     1628701   46524278  \n9                  600.244     1628701   44410794  \n10                 600.244     1628701   42480986  \n11                 600.244     1628701   42480986  \n12                 600.244     1628701   42480986  \n13                 600.244     1628701   40711909  \n14                 600.244     1628701   39084283  \n15                 600.244     1628701   39084283  \n16                 600.244     1628701   39084283  \n17                 600.244     1628701   39084283  \n18                 600.244     1628701   37581797  \n19                 600.244     1628701   36190552  "
                    },
                    "execution_count": 21,
                    "metadata": {},
                    "output_type": "execute_result"
                }
            ],
            "source": "sred0 = re1_neighborhoods[\"restaurants\"].mean()\n#sred0\n\nre1_neighborhoods['Rating'] = ( re1_neighborhoods['Gross Domestic Product'] * re1_neighborhoods['Population'] ) /(re1_neighborhoods['restaurants'] +sred0)\nre1_neighborhoods['Rating'] = re1_neighborhoods['Rating'].astype(int)\n\nre2_neighborhoods = re1_neighborhoods.sort_values(by='Rating', ascending=False).reset_index()\n\nre2_neighborhoods.head( 20)\n#re1_neighborhoods.shape\n"
        },
        {
            "cell_type": "markdown",
            "metadata": {},
            "source": "### Before we get the data and start exploring it, let's download all the dependencies that we will need."
        },
        {
            "cell_type": "code",
            "execution_count": 25,
            "metadata": {},
            "outputs": [
                {
                    "name": "stdout",
                    "output_type": "stream",
                    "text": "Collecting package metadata (current_repodata.json): done\nSolving environment: done\n\n# All requested packages already installed.\n\nCollecting package metadata (current_repodata.json): done\nSolving environment: failed with initial frozen solve. Retrying with flexible solve.\nCollecting package metadata (repodata.json): done\nSolving environment: done\n\n## Package Plan ##\n\n  environment location: /home/jupyterlab/conda/envs/python\n\n  added / updated specs:\n    - folium=0.5.0\n\n\nThe following packages will be downloaded:\n\n    package                    |            build\n    ---------------------------|-----------------\n    altair-4.1.0               |             py_1         614 KB  conda-forge\n    branca-0.4.0               |             py_0          26 KB  conda-forge\n    brotlipy-0.7.0             |py36h8c4c3a4_1000         346 KB  conda-forge\n    chardet-3.0.4              |py36h9f0ad1d_1006         188 KB  conda-forge\n    cryptography-2.9.2         |   py36h45558ae_0         613 KB  conda-forge\n    folium-0.5.0               |             py_0          45 KB  conda-forge\n    pandas-1.0.3               |   py36h830a2c2_1        11.1 MB  conda-forge\n    pysocks-1.7.1              |   py36h9f0ad1d_1          27 KB  conda-forge\n    pytz-2020.1                |     pyh9f0ad1d_0         227 KB  conda-forge\n    toolz-0.10.0               |             py_0          46 KB  conda-forge\n    urllib3-1.25.9             |             py_0          92 KB  conda-forge\n    vincent-0.4.4              |             py_1          28 KB  conda-forge\n    ------------------------------------------------------------\n                                           Total:        13.3 MB\n\nThe following NEW packages will be INSTALLED:\n\n  altair             conda-forge/noarch::altair-4.1.0-py_1\n  attrs              conda-forge/noarch::attrs-19.3.0-py_0\n  branca             conda-forge/noarch::branca-0.4.0-py_0\n  brotlipy           conda-forge/linux-64::brotlipy-0.7.0-py36h8c4c3a4_1000\n  chardet            conda-forge/linux-64::chardet-3.0.4-py36h9f0ad1d_1006\n  cryptography       conda-forge/linux-64::cryptography-2.9.2-py36h45558ae_0\n  entrypoints        conda-forge/linux-64::entrypoints-0.3-py36h9f0ad1d_1001\n  folium             conda-forge/noarch::folium-0.5.0-py_0\n  idna               conda-forge/noarch::idna-2.9-py_1\n  importlib-metadata conda-forge/linux-64::importlib-metadata-1.6.0-py36h9f0ad1d_0\n  importlib_metadata conda-forge/noarch::importlib_metadata-1.6.0-0\n  jinja2             conda-forge/noarch::jinja2-2.11.2-pyh9f0ad1d_0\n  jsonschema         conda-forge/linux-64::jsonschema-3.2.0-py36h9f0ad1d_1\n  markupsafe         conda-forge/linux-64::markupsafe-1.1.1-py36h8c4c3a4_1\n  pandas             conda-forge/linux-64::pandas-1.0.3-py36h830a2c2_1\n  pyopenssl          conda-forge/noarch::pyopenssl-19.1.0-py_1\n  pyrsistent         conda-forge/linux-64::pyrsistent-0.16.0-py36h8c4c3a4_0\n  pysocks            conda-forge/linux-64::pysocks-1.7.1-py36h9f0ad1d_1\n  pytz               conda-forge/noarch::pytz-2020.1-pyh9f0ad1d_0\n  requests           conda-forge/noarch::requests-2.23.0-pyh8c360ce_2\n  toolz              conda-forge/noarch::toolz-0.10.0-py_0\n  urllib3            conda-forge/noarch::urllib3-1.25.9-py_0\n  vincent            conda-forge/noarch::vincent-0.4.4-py_1\n  zipp               conda-forge/noarch::zipp-3.1.0-py_0\n\n\n\nDownloading and Extracting Packages\npysocks-1.7.1        | 27 KB     | ##################################### | 100% \ntoolz-0.10.0         | 46 KB     | ##################################### | 100% \npytz-2020.1          | 227 KB    | ##################################### | 100% \nchardet-3.0.4        | 188 KB    | ##################################### | 100% \nfolium-0.5.0         | 45 KB     | ##################################### | 100% \nurllib3-1.25.9       | 92 KB     | ##################################### | 100% \ncryptography-2.9.2   | 613 KB    | ##################################### | 100% \nbrotlipy-0.7.0       | 346 KB    | ##################################### | 100% \npandas-1.0.3         | 11.1 MB   | ##################################### | 100% \naltair-4.1.0         | 614 KB    | ##################################### | 100% \nbranca-0.4.0         | 26 KB     | ##################################### | 100% \nvincent-0.4.4        | 28 KB     | ##################################### | 100% \nPreparing transaction: done\nVerifying transaction: done\nExecuting transaction: done\nLibraries imported.\n"
                }
            ],
            "source": "import numpy as np # library to handle data in a vectorized manner\n\nimport pandas as pd # library for data analsysis\npd.set_option('display.max_columns', None)\npd.set_option('display.max_rows', None)\n\nimport json # library to handle JSON files\n\n!conda install -c conda-forge geopy --yes # uncomment this line if you haven't completed the Foursquare API lab\nfrom geopy.geocoders import Nominatim # convert an address into latitude and longitude values\n\nimport requests # library to handle requests\nfrom pandas.io.json import json_normalize # tranform JSON file into a pandas dataframe\n\n# Matplotlib and associated plotting modules\nimport matplotlib.cm as cm\nimport matplotlib.colors as colors\n\n# import k-means from clustering stage\nfrom sklearn.cluster import KMeans\n\n!conda install -c conda-forge folium=0.5.0 --yes # uncomment this line if you haven't completed the Foursquare API lab\nimport folium # map rendering library\n\nprint('Libraries imported.')"
        },
        {
            "cell_type": "markdown",
            "metadata": {},
            "source": "# FINALLY. SHOW ON THE MAP"
        },
        {
            "cell_type": "code",
            "execution_count": 27,
            "metadata": {},
            "outputs": [
                {
                    "name": "stdout",
                    "output_type": "stream",
                    "text": "The geograpical coordinate of Manhattan are 40.7896239, -73.9598939.\n"
                }
            ],
            "source": "# Let's get the geographical coordinates of Manhattan.\naddress = 'Manhattan, NY'\n\ngeolocator = Nominatim(user_agent=\"ny_explorer\")\nlocation = geolocator.geocode(address)\nlatitude = location.latitude\nlongitude = location.longitude\nprint('The geograpical coordinate of Manhattan are {}, {}.'.format(latitude, longitude))"
        },
        {
            "cell_type": "code",
            "execution_count": 28,
            "metadata": {},
            "outputs": [
                {
                    "data": {
                        "text/html": "<div>\n<style scoped>\n    .dataframe tbody tr th:only-of-type {\n        vertical-align: middle;\n    }\n\n    .dataframe tbody tr th {\n        vertical-align: top;\n    }\n\n    .dataframe thead th {\n        text-align: right;\n    }\n</style>\n<table border=\"1\" class=\"dataframe\">\n  <thead>\n    <tr style=\"text-align: right;\">\n      <th></th>\n      <th>index</th>\n      <th>Borough</th>\n      <th>Neighborhood</th>\n      <th>Latitude</th>\n      <th>Longitude</th>\n      <th>restaurants</th>\n      <th>Gross Domestic Product</th>\n      <th>Population</th>\n      <th>Rating</th>\n    </tr>\n  </thead>\n  <tbody>\n    <tr>\n      <th>0</th>\n      <td>275</td>\n      <td>Manhattan</td>\n      <td>Stuyvesant Town</td>\n      <td>40.731000</td>\n      <td>-73.974052</td>\n      <td>1</td>\n      <td>600.244</td>\n      <td>1628701</td>\n      <td>108466681</td>\n    </tr>\n    <tr>\n      <th>1</th>\n      <td>6</td>\n      <td>Manhattan</td>\n      <td>Marble Hill</td>\n      <td>40.876551</td>\n      <td>-73.910660</td>\n      <td>2</td>\n      <td>600.244</td>\n      <td>1628701</td>\n      <td>97634173</td>\n    </tr>\n    <tr>\n      <th>2</th>\n      <td>110</td>\n      <td>Manhattan</td>\n      <td>Roosevelt Island</td>\n      <td>40.762160</td>\n      <td>-73.949168</td>\n      <td>3</td>\n      <td>600.244</td>\n      <td>1628701</td>\n      <td>88768875</td>\n    </tr>\n    <tr>\n      <th>3</th>\n      <td>127</td>\n      <td>Manhattan</td>\n      <td>Battery Park City</td>\n      <td>40.711932</td>\n      <td>-74.016869</td>\n      <td>3</td>\n      <td>600.244</td>\n      <td>1628701</td>\n      <td>88768875</td>\n    </tr>\n    <tr>\n      <th>4</th>\n      <td>301</td>\n      <td>Manhattan</td>\n      <td>Hudson Yards</td>\n      <td>40.756658</td>\n      <td>-74.000111</td>\n      <td>9</td>\n      <td>600.244</td>\n      <td>1628701</td>\n      <td>57462756</td>\n    </tr>\n  </tbody>\n</table>\n</div>",
                        "text/plain": "   index    Borough       Neighborhood   Latitude  Longitude  restaurants  \\\n0    275  Manhattan    Stuyvesant Town  40.731000 -73.974052            1   \n1      6  Manhattan        Marble Hill  40.876551 -73.910660            2   \n2    110  Manhattan   Roosevelt Island  40.762160 -73.949168            3   \n3    127  Manhattan  Battery Park City  40.711932 -74.016869            3   \n4    301  Manhattan       Hudson Yards  40.756658 -74.000111            9   \n\n   Gross Domestic Product  Population     Rating  \n0                 600.244     1628701  108466681  \n1                 600.244     1628701   97634173  \n2                 600.244     1628701   88768875  \n3                 600.244     1628701   88768875  \n4                 600.244     1628701   57462756  "
                    },
                    "execution_count": 28,
                    "metadata": {},
                    "output_type": "execute_result"
                }
            ],
            "source": "manhattan_data = re2_neighborhoods[0:6]\nmanhattan_data.head()"
        },
        {
            "cell_type": "code",
            "execution_count": 29,
            "metadata": {},
            "outputs": [
                {
                    "data": {
                        "text/html": "<div style=\"width:100%;\"><div style=\"position:relative;width:100%;height:0;padding-bottom:60%;\"><iframe src=\"about:blank\" style=\"position:absolute;width:100%;height:100%;left:0;top:0;border:none !important;\" data-html=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 onload=\"this.contentDocument.open();this.contentDocument.write(atob(this.getAttribute('data-html')));this.contentDocument.close();\" allowfullscreen webkitallowfullscreen mozallowfullscreen></iframe></div></div>",
                        "text/plain": "<folium.folium.Map at 0x7fbde9598898>"
                    },
                    "execution_count": 29,
                    "metadata": {},
                    "output_type": "execute_result"
                }
            ],
            "source": "# create map of Manhattan using latitude and longitude values\nmap_manhattan = folium.Map(location=[latitude, longitude], zoom_start=11)\n\n# add markers to map\nfor lat, lng, label in zip(manhattan_data['Latitude'], manhattan_data['Longitude'], manhattan_data['Neighborhood']):\n    label = folium.Popup(label, parse_html=True)\n    folium.CircleMarker(\n        [lat, lng],\n        radius=5,\n        popup=label,\n        color='blue',\n        fill=True,\n        fill_color='#3186cc',\n        fill_opacity=0.7,\n        parse_html=False).add_to(map_manhattan)  \n    \nmap_manhattan"
        },
        {
            "cell_type": "code",
            "execution_count": null,
            "metadata": {},
            "outputs": [],
            "source": ""
        },
        {
            "cell_type": "code",
            "execution_count": null,
            "metadata": {},
            "outputs": [],
            "source": ""
        }
    ],
    "metadata": {
        "kernelspec": {
            "display_name": "Python 3.6",
            "language": "python",
            "name": "python3"
        },
        "language_info": {
            "codemirror_mode": {
                "name": "ipython",
                "version": 3
            },
            "file_extension": ".py",
            "mimetype": "text/x-python",
            "name": "python",
            "nbconvert_exporter": "python",
            "pygments_lexer": "ipython3",
            "version": "3.6.9"
        }
    },
    "nbformat": 4,
    "nbformat_minor": 4
}