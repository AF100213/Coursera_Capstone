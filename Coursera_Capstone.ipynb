{
    "cells": [
        {
            "cell_type": "markdown",
            "metadata": {
                "collapsed": true
            },
            "source": "# this notebook will be mainly used for the capstone project"
        },
        {
            "cell_type": "code",
            "execution_count": 1,
            "metadata": {},
            "outputs": [
                {
                    "name": "stdout",
                    "output_type": "stream",
                    "text": "Hello Capstone Project Course!\n"
                }
            ],
            "source": "import pandas as pd\nimport numpy  as np\nprint(\"Hello Capstone Project Course!\")"
        },
        {
            "cell_type": "markdown",
            "metadata": {},
            "source": "# load data to dataframe"
        },
        {
            "cell_type": "code",
            "execution_count": 15,
            "metadata": {},
            "outputs": [
                {
                    "data": {
                        "text/html": "<div>\n<style scoped>\n    .dataframe tbody tr th:only-of-type {\n        vertical-align: middle;\n    }\n\n    .dataframe tbody tr th {\n        vertical-align: top;\n    }\n\n    .dataframe thead th {\n        text-align: right;\n    }\n</style>\n<table border=\"1\" class=\"dataframe\">\n  <thead>\n    <tr style=\"text-align: right;\">\n      <th></th>\n      <th>Postal code</th>\n      <th>Borough</th>\n      <th>Neighborhood</th>\n    </tr>\n  </thead>\n  <tbody>\n    <tr>\n      <th>0</th>\n      <td>M1A</td>\n      <td>Not assigned</td>\n      <td>NaN</td>\n    </tr>\n    <tr>\n      <th>1</th>\n      <td>M2A</td>\n      <td>Not assigned</td>\n      <td>NaN</td>\n    </tr>\n    <tr>\n      <th>2</th>\n      <td>M3A</td>\n      <td>North York</td>\n      <td>Parkwoods</td>\n    </tr>\n    <tr>\n      <th>3</th>\n      <td>M4A</td>\n      <td>North York</td>\n      <td>Victoria Village</td>\n    </tr>\n    <tr>\n      <th>4</th>\n      <td>M5A</td>\n      <td>Downtown Toronto</td>\n      <td>Regent Park / Harbourfront</td>\n    </tr>\n  </tbody>\n</table>\n</div>",
                        "text/plain": "  Postal code           Borough                Neighborhood\n0         M1A      Not assigned                         NaN\n1         M2A      Not assigned                         NaN\n2         M3A        North York                   Parkwoods\n3         M4A        North York            Victoria Village\n4         M5A  Downtown Toronto  Regent Park / Harbourfront"
                    },
                    "execution_count": 15,
                    "metadata": {},
                    "output_type": "execute_result"
                }
            ],
            "source": "# load data to dataframe\nurl='https://en.wikipedia.org/wiki/List_of_postal_codes_of_Canada:_M'\ndf=pd.read_html(url, header=0)[0]\ndf.head()\n#df.shape\n\n#df = df.dropna()\n#df.shape\n"
        },
        {
            "cell_type": "markdown",
            "metadata": {},
            "source": "# Only process the cells that have an assigned borough. Ignore cells with a borough that is Not assigned."
        },
        {
            "cell_type": "code",
            "execution_count": 34,
            "metadata": {},
            "outputs": [
                {
                    "data": {
                        "text/html": "<div>\n<style scoped>\n    .dataframe tbody tr th:only-of-type {\n        vertical-align: middle;\n    }\n\n    .dataframe tbody tr th {\n        vertical-align: top;\n    }\n\n    .dataframe thead th {\n        text-align: right;\n    }\n</style>\n<table border=\"1\" class=\"dataframe\">\n  <thead>\n    <tr style=\"text-align: right;\">\n      <th></th>\n      <th>Postal code</th>\n      <th>Borough</th>\n      <th>Neighborhood</th>\n    </tr>\n  </thead>\n  <tbody>\n    <tr>\n      <th>2</th>\n      <td>M3A</td>\n      <td>North York</td>\n      <td>Parkwoods</td>\n    </tr>\n    <tr>\n      <th>3</th>\n      <td>M4A</td>\n      <td>North York</td>\n      <td>Victoria Village</td>\n    </tr>\n    <tr>\n      <th>4</th>\n      <td>M5A</td>\n      <td>Downtown Toronto</td>\n      <td>Regent Park / Harbourfront</td>\n    </tr>\n    <tr>\n      <th>5</th>\n      <td>M6A</td>\n      <td>North York</td>\n      <td>Lawrence Manor / Lawrence Heights</td>\n    </tr>\n    <tr>\n      <th>6</th>\n      <td>M7A</td>\n      <td>Downtown Toronto</td>\n      <td>Queen's Park / Ontario Provincial Government</td>\n    </tr>\n  </tbody>\n</table>\n</div>",
                        "text/plain": "  Postal code           Borough                                  Neighborhood\n2         M3A        North York                                     Parkwoods\n3         M4A        North York                              Victoria Village\n4         M5A  Downtown Toronto                    Regent Park / Harbourfront\n5         M6A        North York             Lawrence Manor / Lawrence Heights\n6         M7A  Downtown Toronto  Queen's Park / Ontario Provincial Government"
                    },
                    "execution_count": 34,
                    "metadata": {},
                    "output_type": "execute_result"
                }
            ],
            "source": "# Only process the cells that have an assigned borough. Ignore cells with a borough that is Not assigned.\ndf = df[ df['Borough'] != 'Not assigned']\ndf.head()\n#df.shape\n"
        },
        {
            "cell_type": "markdown",
            "metadata": {},
            "source": "# If a cell has a borough but a Not assigned neighborhood, then the neighborhood will be the same as the borough"
        },
        {
            "cell_type": "code",
            "execution_count": 44,
            "metadata": {},
            "outputs": [
                {
                    "data": {
                        "text/html": "<div>\n<style scoped>\n    .dataframe tbody tr th:only-of-type {\n        vertical-align: middle;\n    }\n\n    .dataframe tbody tr th {\n        vertical-align: top;\n    }\n\n    .dataframe thead th {\n        text-align: right;\n    }\n</style>\n<table border=\"1\" class=\"dataframe\">\n  <thead>\n    <tr style=\"text-align: right;\">\n      <th></th>\n      <th>Postal code</th>\n      <th>Borough</th>\n      <th>Neighborhood</th>\n    </tr>\n  </thead>\n  <tbody>\n    <tr>\n      <th>2</th>\n      <td>M3A</td>\n      <td>North York</td>\n      <td>Parkwoods</td>\n    </tr>\n    <tr>\n      <th>3</th>\n      <td>M4A</td>\n      <td>North York</td>\n      <td>Victoria Village</td>\n    </tr>\n    <tr>\n      <th>4</th>\n      <td>M5A</td>\n      <td>Downtown Toronto</td>\n      <td>Regent Park / Harbourfront</td>\n    </tr>\n    <tr>\n      <th>5</th>\n      <td>M6A</td>\n      <td>North York</td>\n      <td>Lawrence Manor / Lawrence Heights</td>\n    </tr>\n    <tr>\n      <th>6</th>\n      <td>M7A</td>\n      <td>Downtown Toronto</td>\n      <td>Queen's Park / Ontario Provincial Government</td>\n    </tr>\n  </tbody>\n</table>\n</div>",
                        "text/plain": "  Postal code           Borough                                  Neighborhood\n2         M3A        North York                                     Parkwoods\n3         M4A        North York                              Victoria Village\n4         M5A  Downtown Toronto                    Regent Park / Harbourfront\n5         M6A        North York             Lawrence Manor / Lawrence Heights\n6         M7A  Downtown Toronto  Queen's Park / Ontario Provincial Government"
                    },
                    "execution_count": 44,
                    "metadata": {},
                    "output_type": "execute_result"
                }
            ],
            "source": "#df.shape\n# count field neighborhood\n#df1=df.groupby(['Neighborhood']).size()\n#df1=df.groupby(['Neighborhood']).size().reset_index(name='counts')\n#df1.sort_values('counts', ascending=False)\n#df1.head()\n\n#If a cell has a borough but a Not assigned neighborhood, then the neighborhood will be the same as the borough\nfor j in range(len(df)):\n    if df['Neighborhood'].iloc[j] == 'Not assigned':\n        df['Neighborhood'].iloc[j]= df['Borough'].iloc[j]\n        \ndf.head()\n#df.shape\n"
        },
        {
            "cell_type": "markdown",
            "metadata": {},
            "source": "# Combining the neighborhoods with the same postcode into one row with the neighborhoods separated with a comma."
        },
        {
            "cell_type": "code",
            "execution_count": 54,
            "metadata": {},
            "outputs": [
                {
                    "data": {
                        "text/html": "<div>\n<style scoped>\n    .dataframe tbody tr th:only-of-type {\n        vertical-align: middle;\n    }\n\n    .dataframe tbody tr th {\n        vertical-align: top;\n    }\n\n    .dataframe thead th {\n        text-align: right;\n    }\n</style>\n<table border=\"1\" class=\"dataframe\">\n  <thead>\n    <tr style=\"text-align: right;\">\n      <th></th>\n      <th>Postal code</th>\n      <th>Borough</th>\n      <th>Neighborhood</th>\n    </tr>\n  </thead>\n  <tbody>\n    <tr>\n      <th>0</th>\n      <td>M1B</td>\n      <td>Scarborough</td>\n      <td>Malvern / Rouge</td>\n    </tr>\n    <tr>\n      <th>1</th>\n      <td>M1C</td>\n      <td>Scarborough</td>\n      <td>Rouge Hill / Port Union / Highland Creek</td>\n    </tr>\n    <tr>\n      <th>2</th>\n      <td>M1E</td>\n      <td>Scarborough</td>\n      <td>Guildwood / Morningside / West Hill</td>\n    </tr>\n    <tr>\n      <th>3</th>\n      <td>M1G</td>\n      <td>Scarborough</td>\n      <td>Woburn</td>\n    </tr>\n    <tr>\n      <th>4</th>\n      <td>M1H</td>\n      <td>Scarborough</td>\n      <td>Cedarbrae</td>\n    </tr>\n  </tbody>\n</table>\n</div>",
                        "text/plain": "  Postal code      Borough                              Neighborhood\n0         M1B  Scarborough                           Malvern / Rouge\n1         M1C  Scarborough  Rouge Hill / Port Union / Highland Creek\n2         M1E  Scarborough       Guildwood / Morningside / West Hill\n3         M1G  Scarborough                                    Woburn\n4         M1H  Scarborough                                 Cedarbrae"
                    },
                    "execution_count": 54,
                    "metadata": {},
                    "output_type": "execute_result"
                }
            ],
            "source": "#df1=df.groupby(['Postal code']).size().reset_index(name='counts')\n#df1.sort_values('counts', ascending=False)\n#df1.head()\n#df1.tail()\n\ndf1 = df.groupby([\"Postal code\", \"Borough\"])[\"Neighborhood\"].apply(\", \".join).reset_index()\ndf1.head()\n"
        },
        {
            "cell_type": "code",
            "execution_count": 55,
            "metadata": {},
            "outputs": [
                {
                    "name": "stdout",
                    "output_type": "stream",
                    "text": "Shape:  (103, 3)\n"
                }
            ],
            "source": "print(\"Shape: \", df1.shape)"
        },
        {
            "cell_type": "markdown",
            "metadata": {},
            "source": "# latitude and longitude for Postal Code"
        },
        {
            "cell_type": "code",
            "execution_count": 56,
            "metadata": {},
            "outputs": [
                {
                    "name": "stdout",
                    "output_type": "stream",
                    "text": "--2020-05-04 18:21:36--  https://cocl.us/Geospatial_data\nResolving cocl.us (cocl.us)... 158.85.108.86, 158.85.108.83, 169.48.113.194\nConnecting to cocl.us (cocl.us)|158.85.108.86|:443... connected.\nHTTP request sent, awaiting response... 301 Moved Permanently\nLocation: https://ibm.box.com/shared/static/9afzr83pps4pwf2smjjcf1y5mvgb18rr.csv [following]\n--2020-05-04 18:21:37--  https://ibm.box.com/shared/static/9afzr83pps4pwf2smjjcf1y5mvgb18rr.csv\nResolving ibm.box.com (ibm.box.com)... 107.152.25.197\nConnecting to ibm.box.com (ibm.box.com)|107.152.25.197|:443... connected.\nHTTP request sent, awaiting response... 301 Moved Permanently\nLocation: /public/static/9afzr83pps4pwf2smjjcf1y5mvgb18rr.csv [following]\n--2020-05-04 18:21:37--  https://ibm.box.com/public/static/9afzr83pps4pwf2smjjcf1y5mvgb18rr.csv\nReusing existing connection to ibm.box.com:443.\nHTTP request sent, awaiting response... 301 Moved Permanently\nLocation: https://ibm.ent.box.com/public/static/9afzr83pps4pwf2smjjcf1y5mvgb18rr.csv [following]\n--2020-05-04 18:21:38--  https://ibm.ent.box.com/public/static/9afzr83pps4pwf2smjjcf1y5mvgb18rr.csv\nResolving ibm.ent.box.com (ibm.ent.box.com)... 107.152.26.211\nConnecting to ibm.ent.box.com (ibm.ent.box.com)|107.152.26.211|:443... connected.\nHTTP request sent, awaiting response... 302 Found\nLocation: https://public.boxcloud.com/d/1/b1!KMYFAl4kpd7I0v7B3RAr2ki0RqUojby3XBTqCkak7lp8_I3XsmvvWvZ4ytWXsAobzlZaEYuXdI8TYWese0ybB40UNauEL5mpTe4x4ja1DZarqwWs6p2EnD2uavcMXUk6S7xwTvzSHNU2o6E-gdoqO1UYWabDx_c1bsKykRFoLSzcMGGaEzaGvuY5a3vW7ImevHnKdm7B74aYjuv8tj4mkSNBY23qAyWL0MInXLlZi7QKnVbCkK4MEzrkmP4m_wKbG8Vn58FZ6PDFkNd6i6LnPcu7Nx3P_dhiMU1MeA6OsRqu_OB98wfsn9xUXrlib_pGOmV3NxaLZ5ljfM_z-ly4a03nEflBHKtdkZ5j9TxLUuhQx0YX-UsueIUZcPkJ_bG9ybenlGYtYDnjV6eiFb6DFCFeAUQG-ZbXCKsBsKcqBB_a1s8fj9qaPSrTFocvIIQ2Kcb_7914aRj6GlupJsjpA6rYWTG8rSryZTC98VUwqN-h7ObWMEQXzMNyklrNa_VWTkjDUqtMq4vwRCW1lqW_y3uGisbJKl_vO6rwZ1WgYnxuczfXL7IJmWm6u0mZ3QId7VupZq1UqJUgsfnMRJdzE5KCny9O94wUlOnzfnWdL8Ytb5f3GeJsDh_7atC5eTl3IT6vWmjkVOhFv8KnsLdTtA0c5Td1RkiswhIfSMpKQdCRfYrcvCfTDXvJischPTKatscce8Ia29GugN4L3XrxhO2X19-qlBEm5mg8Jd-EisDdQotR362Iamu1LewX3nhtKZayDvt1eXitAHLBmxWc95zGBO12uUSxuWag2YWh2p7om9_6XUFkbTKH-tBZCYX6ALbc7pV-Nt6BxrhvUinXg1i2djU0TDyjOjN4vkgD9w5wrG0WZoDEn82T8h1ftxzq7oaukIT3zlwJ1IMRE_tsezdaVxxL0kFQ0LZScT96J6Rhho29q4ajijoBW_Id27BHlLxlRJxL77pDrwo5gw29Yz92Z3nJa5s6gmIjyvPAu5mnL0mZfFtiUazSibgROO_IqtK3-LXwaUzJaH9J4r3MBotT3bMGuTbsQkRKNoruaAkOtiBcwvEfe_y8LHP-jSQ2EsbFo4MIJ9VUyscIjW1Edtp9VnikI6uHD6vn23SlE8s_kSSex5ZrAVmFV6C_eDUhU_KPE91LgLLmzsPYHhCKO3hPWmuSswMbySvlcN9Uf1j-_TkTfbPPJCGoGVZLTr2lr3xQLXaazRMrsJaTjYsb1DRScBPkRJxXNLj0LuOflc3LrFqX_Zn9TSTTHmukKN_fhtYC14UjV60laXJHMrC_eCkTOxQQJmwON6-oT7khpLKuzaMICyuc87A_hiba2QqJIkAQAOiKKPjSF44VXJPoe6bu0R2NEBf-fW6daa4WwwtNJOHboSsQnknKbzD2_OtR7g56xoAoM4g4w85bag0lDx1DO2oRGE-g3WqkBEh0rF4./download [following]\n--2020-05-04 18:21:39--  https://public.boxcloud.com/d/1/b1!KMYFAl4kpd7I0v7B3RAr2ki0RqUojby3XBTqCkak7lp8_I3XsmvvWvZ4ytWXsAobzlZaEYuXdI8TYWese0ybB40UNauEL5mpTe4x4ja1DZarqwWs6p2EnD2uavcMXUk6S7xwTvzSHNU2o6E-gdoqO1UYWabDx_c1bsKykRFoLSzcMGGaEzaGvuY5a3vW7ImevHnKdm7B74aYjuv8tj4mkSNBY23qAyWL0MInXLlZi7QKnVbCkK4MEzrkmP4m_wKbG8Vn58FZ6PDFkNd6i6LnPcu7Nx3P_dhiMU1MeA6OsRqu_OB98wfsn9xUXrlib_pGOmV3NxaLZ5ljfM_z-ly4a03nEflBHKtdkZ5j9TxLUuhQx0YX-UsueIUZcPkJ_bG9ybenlGYtYDnjV6eiFb6DFCFeAUQG-ZbXCKsBsKcqBB_a1s8fj9qaPSrTFocvIIQ2Kcb_7914aRj6GlupJsjpA6rYWTG8rSryZTC98VUwqN-h7ObWMEQXzMNyklrNa_VWTkjDUqtMq4vwRCW1lqW_y3uGisbJKl_vO6rwZ1WgYnxuczfXL7IJmWm6u0mZ3QId7VupZq1UqJUgsfnMRJdzE5KCny9O94wUlOnzfnWdL8Ytb5f3GeJsDh_7atC5eTl3IT6vWmjkVOhFv8KnsLdTtA0c5Td1RkiswhIfSMpKQdCRfYrcvCfTDXvJischPTKatscce8Ia29GugN4L3XrxhO2X19-qlBEm5mg8Jd-EisDdQotR362Iamu1LewX3nhtKZayDvt1eXitAHLBmxWc95zGBO12uUSxuWag2YWh2p7om9_6XUFkbTKH-tBZCYX6ALbc7pV-Nt6BxrhvUinXg1i2djU0TDyjOjN4vkgD9w5wrG0WZoDEn82T8h1ftxzq7oaukIT3zlwJ1IMRE_tsezdaVxxL0kFQ0LZScT96J6Rhho29q4ajijoBW_Id27BHlLxlRJxL77pDrwo5gw29Yz92Z3nJa5s6gmIjyvPAu5mnL0mZfFtiUazSibgROO_IqtK3-LXwaUzJaH9J4r3MBotT3bMGuTbsQkRKNoruaAkOtiBcwvEfe_y8LHP-jSQ2EsbFo4MIJ9VUyscIjW1Edtp9VnikI6uHD6vn23SlE8s_kSSex5ZrAVmFV6C_eDUhU_KPE91LgLLmzsPYHhCKO3hPWmuSswMbySvlcN9Uf1j-_TkTfbPPJCGoGVZLTr2lr3xQLXaazRMrsJaTjYsb1DRScBPkRJxXNLj0LuOflc3LrFqX_Zn9TSTTHmukKN_fhtYC14UjV60laXJHMrC_eCkTOxQQJmwON6-oT7khpLKuzaMICyuc87A_hiba2QqJIkAQAOiKKPjSF44VXJPoe6bu0R2NEBf-fW6daa4WwwtNJOHboSsQnknKbzD2_OtR7g56xoAoM4g4w85bag0lDx1DO2oRGE-g3WqkBEh0rF4./download\nResolving public.boxcloud.com (public.boxcloud.com)... 107.152.25.200\nConnecting to public.boxcloud.com (public.boxcloud.com)|107.152.25.200|:443... connected.\nHTTP request sent, awaiting response... 200 OK\nLength: 2891 (2.8K) [text/csv]\nSaving to: \u2018Geo_file.csv\u2019\n\n100%[======================================>] 2,891       --.-K/s   in 0s      \n\n2020-05-04 18:21:39 (226 MB/s) - \u2018Geo_file.csv\u2019 saved [2891/2891]\n\n"
                }
            ],
            "source": "!wget -O Geo_file.csv https://cocl.us/Geospatial_data\n                     "
        },
        {
            "cell_type": "code",
            "execution_count": 57,
            "metadata": {},
            "outputs": [
                {
                    "data": {
                        "text/html": "<div>\n<style scoped>\n    .dataframe tbody tr th:only-of-type {\n        vertical-align: middle;\n    }\n\n    .dataframe tbody tr th {\n        vertical-align: top;\n    }\n\n    .dataframe thead th {\n        text-align: right;\n    }\n</style>\n<table border=\"1\" class=\"dataframe\">\n  <thead>\n    <tr style=\"text-align: right;\">\n      <th></th>\n      <th>Postal Code</th>\n      <th>Latitude</th>\n      <th>Longitude</th>\n    </tr>\n  </thead>\n  <tbody>\n    <tr>\n      <th>0</th>\n      <td>M1B</td>\n      <td>43.806686</td>\n      <td>-79.194353</td>\n    </tr>\n    <tr>\n      <th>1</th>\n      <td>M1C</td>\n      <td>43.784535</td>\n      <td>-79.160497</td>\n    </tr>\n    <tr>\n      <th>2</th>\n      <td>M1E</td>\n      <td>43.763573</td>\n      <td>-79.188711</td>\n    </tr>\n    <tr>\n      <th>3</th>\n      <td>M1G</td>\n      <td>43.770992</td>\n      <td>-79.216917</td>\n    </tr>\n    <tr>\n      <th>4</th>\n      <td>M1H</td>\n      <td>43.773136</td>\n      <td>-79.239476</td>\n    </tr>\n  </tbody>\n</table>\n</div>",
                        "text/plain": "  Postal Code   Latitude  Longitude\n0         M1B  43.806686 -79.194353\n1         M1C  43.784535 -79.160497\n2         M1E  43.763573 -79.188711\n3         M1G  43.770992 -79.216917\n4         M1H  43.773136 -79.239476"
                    },
                    "execution_count": 57,
                    "metadata": {},
                    "output_type": "execute_result"
                }
            ],
            "source": "df_geo = pd.read_csv('Geo_file.csv')\ndf_geo.head()"
        },
        {
            "cell_type": "markdown",
            "metadata": {},
            "source": "# combine two tables df1+df_geo"
        },
        {
            "cell_type": "code",
            "execution_count": 62,
            "metadata": {},
            "outputs": [
                {
                    "data": {
                        "text/html": "<div>\n<style scoped>\n    .dataframe tbody tr th:only-of-type {\n        vertical-align: middle;\n    }\n\n    .dataframe tbody tr th {\n        vertical-align: top;\n    }\n\n    .dataframe thead th {\n        text-align: right;\n    }\n</style>\n<table border=\"1\" class=\"dataframe\">\n  <thead>\n    <tr style=\"text-align: right;\">\n      <th></th>\n      <th>Postal code</th>\n      <th>Borough</th>\n      <th>Neighborhood</th>\n      <th>Latitude</th>\n      <th>Longitude</th>\n    </tr>\n  </thead>\n  <tbody>\n    <tr>\n      <th>0</th>\n      <td>M1B</td>\n      <td>Scarborough</td>\n      <td>Malvern / Rouge</td>\n      <td>43.806686</td>\n      <td>-79.194353</td>\n    </tr>\n    <tr>\n      <th>1</th>\n      <td>M1C</td>\n      <td>Scarborough</td>\n      <td>Rouge Hill / Port Union / Highland Creek</td>\n      <td>43.784535</td>\n      <td>-79.160497</td>\n    </tr>\n    <tr>\n      <th>2</th>\n      <td>M1E</td>\n      <td>Scarborough</td>\n      <td>Guildwood / Morningside / West Hill</td>\n      <td>43.763573</td>\n      <td>-79.188711</td>\n    </tr>\n    <tr>\n      <th>3</th>\n      <td>M1G</td>\n      <td>Scarborough</td>\n      <td>Woburn</td>\n      <td>43.770992</td>\n      <td>-79.216917</td>\n    </tr>\n    <tr>\n      <th>4</th>\n      <td>M1H</td>\n      <td>Scarborough</td>\n      <td>Cedarbrae</td>\n      <td>43.773136</td>\n      <td>-79.239476</td>\n    </tr>\n    <tr>\n      <th>5</th>\n      <td>M1J</td>\n      <td>Scarborough</td>\n      <td>Scarborough Village</td>\n      <td>43.744734</td>\n      <td>-79.239476</td>\n    </tr>\n    <tr>\n      <th>6</th>\n      <td>M1K</td>\n      <td>Scarborough</td>\n      <td>Kennedy Park / Ionview / East Birchmount Park</td>\n      <td>43.727929</td>\n      <td>-79.262029</td>\n    </tr>\n    <tr>\n      <th>7</th>\n      <td>M1L</td>\n      <td>Scarborough</td>\n      <td>Golden Mile / Clairlea / Oakridge</td>\n      <td>43.711112</td>\n      <td>-79.284577</td>\n    </tr>\n    <tr>\n      <th>8</th>\n      <td>M1M</td>\n      <td>Scarborough</td>\n      <td>Cliffside / Cliffcrest / Scarborough Village West</td>\n      <td>43.716316</td>\n      <td>-79.239476</td>\n    </tr>\n    <tr>\n      <th>9</th>\n      <td>M1N</td>\n      <td>Scarborough</td>\n      <td>Birch Cliff / Cliffside West</td>\n      <td>43.692657</td>\n      <td>-79.264848</td>\n    </tr>\n    <tr>\n      <th>10</th>\n      <td>M1P</td>\n      <td>Scarborough</td>\n      <td>Dorset Park / Wexford Heights / Scarborough To...</td>\n      <td>43.757410</td>\n      <td>-79.273304</td>\n    </tr>\n    <tr>\n      <th>11</th>\n      <td>M1R</td>\n      <td>Scarborough</td>\n      <td>Wexford / Maryvale</td>\n      <td>43.750072</td>\n      <td>-79.295849</td>\n    </tr>\n    <tr>\n      <th>12</th>\n      <td>M1S</td>\n      <td>Scarborough</td>\n      <td>Agincourt</td>\n      <td>43.794200</td>\n      <td>-79.262029</td>\n    </tr>\n    <tr>\n      <th>13</th>\n      <td>M1T</td>\n      <td>Scarborough</td>\n      <td>Clarks Corners / Tam O'Shanter / Sullivan</td>\n      <td>43.781638</td>\n      <td>-79.304302</td>\n    </tr>\n    <tr>\n      <th>14</th>\n      <td>M1V</td>\n      <td>Scarborough</td>\n      <td>Milliken / Agincourt North / Steeles East / L'...</td>\n      <td>43.815252</td>\n      <td>-79.284577</td>\n    </tr>\n    <tr>\n      <th>15</th>\n      <td>M1W</td>\n      <td>Scarborough</td>\n      <td>Steeles West / L'Amoreaux West</td>\n      <td>43.799525</td>\n      <td>-79.318389</td>\n    </tr>\n    <tr>\n      <th>16</th>\n      <td>M1X</td>\n      <td>Scarborough</td>\n      <td>Upper Rouge</td>\n      <td>43.836125</td>\n      <td>-79.205636</td>\n    </tr>\n    <tr>\n      <th>17</th>\n      <td>M2H</td>\n      <td>North York</td>\n      <td>Hillcrest Village</td>\n      <td>43.803762</td>\n      <td>-79.363452</td>\n    </tr>\n    <tr>\n      <th>18</th>\n      <td>M2J</td>\n      <td>North York</td>\n      <td>Fairview / Henry Farm / Oriole</td>\n      <td>43.778517</td>\n      <td>-79.346556</td>\n    </tr>\n    <tr>\n      <th>19</th>\n      <td>M2K</td>\n      <td>North York</td>\n      <td>Bayview Village</td>\n      <td>43.786947</td>\n      <td>-79.385975</td>\n    </tr>\n    <tr>\n      <th>20</th>\n      <td>M2L</td>\n      <td>North York</td>\n      <td>York Mills / Silver Hills</td>\n      <td>43.757490</td>\n      <td>-79.374714</td>\n    </tr>\n    <tr>\n      <th>21</th>\n      <td>M2M</td>\n      <td>North York</td>\n      <td>Willowdale / Newtonbrook</td>\n      <td>43.789053</td>\n      <td>-79.408493</td>\n    </tr>\n    <tr>\n      <th>22</th>\n      <td>M2N</td>\n      <td>North York</td>\n      <td>Willowdale</td>\n      <td>43.770120</td>\n      <td>-79.408493</td>\n    </tr>\n    <tr>\n      <th>23</th>\n      <td>M2P</td>\n      <td>North York</td>\n      <td>York Mills West</td>\n      <td>43.752758</td>\n      <td>-79.400049</td>\n    </tr>\n    <tr>\n      <th>24</th>\n      <td>M2R</td>\n      <td>North York</td>\n      <td>Willowdale</td>\n      <td>43.782736</td>\n      <td>-79.442259</td>\n    </tr>\n    <tr>\n      <th>25</th>\n      <td>M3A</td>\n      <td>North York</td>\n      <td>Parkwoods</td>\n      <td>43.753259</td>\n      <td>-79.329656</td>\n    </tr>\n    <tr>\n      <th>26</th>\n      <td>M3B</td>\n      <td>North York</td>\n      <td>Don Mills</td>\n      <td>43.745906</td>\n      <td>-79.352188</td>\n    </tr>\n    <tr>\n      <th>27</th>\n      <td>M3C</td>\n      <td>North York</td>\n      <td>Don Mills</td>\n      <td>43.725900</td>\n      <td>-79.340923</td>\n    </tr>\n    <tr>\n      <th>28</th>\n      <td>M3H</td>\n      <td>North York</td>\n      <td>Bathurst Manor / Wilson Heights / Downsview North</td>\n      <td>43.754328</td>\n      <td>-79.442259</td>\n    </tr>\n    <tr>\n      <th>29</th>\n      <td>M3J</td>\n      <td>North York</td>\n      <td>Northwood Park / York University</td>\n      <td>43.767980</td>\n      <td>-79.487262</td>\n    </tr>\n  </tbody>\n</table>\n</div>",
                        "text/plain": "   Postal code      Borough  \\\n0          M1B  Scarborough   \n1          M1C  Scarborough   \n2          M1E  Scarborough   \n3          M1G  Scarborough   \n4          M1H  Scarborough   \n5          M1J  Scarborough   \n6          M1K  Scarborough   \n7          M1L  Scarborough   \n8          M1M  Scarborough   \n9          M1N  Scarborough   \n10         M1P  Scarborough   \n11         M1R  Scarborough   \n12         M1S  Scarborough   \n13         M1T  Scarborough   \n14         M1V  Scarborough   \n15         M1W  Scarborough   \n16         M1X  Scarborough   \n17         M2H   North York   \n18         M2J   North York   \n19         M2K   North York   \n20         M2L   North York   \n21         M2M   North York   \n22         M2N   North York   \n23         M2P   North York   \n24         M2R   North York   \n25         M3A   North York   \n26         M3B   North York   \n27         M3C   North York   \n28         M3H   North York   \n29         M3J   North York   \n\n                                         Neighborhood   Latitude  Longitude  \n0                                     Malvern / Rouge  43.806686 -79.194353  \n1            Rouge Hill / Port Union / Highland Creek  43.784535 -79.160497  \n2                 Guildwood / Morningside / West Hill  43.763573 -79.188711  \n3                                              Woburn  43.770992 -79.216917  \n4                                           Cedarbrae  43.773136 -79.239476  \n5                                 Scarborough Village  43.744734 -79.239476  \n6       Kennedy Park / Ionview / East Birchmount Park  43.727929 -79.262029  \n7                   Golden Mile / Clairlea / Oakridge  43.711112 -79.284577  \n8   Cliffside / Cliffcrest / Scarborough Village West  43.716316 -79.239476  \n9                        Birch Cliff / Cliffside West  43.692657 -79.264848  \n10  Dorset Park / Wexford Heights / Scarborough To...  43.757410 -79.273304  \n11                                 Wexford / Maryvale  43.750072 -79.295849  \n12                                          Agincourt  43.794200 -79.262029  \n13          Clarks Corners / Tam O'Shanter / Sullivan  43.781638 -79.304302  \n14  Milliken / Agincourt North / Steeles East / L'...  43.815252 -79.284577  \n15                     Steeles West / L'Amoreaux West  43.799525 -79.318389  \n16                                        Upper Rouge  43.836125 -79.205636  \n17                                  Hillcrest Village  43.803762 -79.363452  \n18                     Fairview / Henry Farm / Oriole  43.778517 -79.346556  \n19                                    Bayview Village  43.786947 -79.385975  \n20                          York Mills / Silver Hills  43.757490 -79.374714  \n21                           Willowdale / Newtonbrook  43.789053 -79.408493  \n22                                         Willowdale  43.770120 -79.408493  \n23                                    York Mills West  43.752758 -79.400049  \n24                                         Willowdale  43.782736 -79.442259  \n25                                          Parkwoods  43.753259 -79.329656  \n26                                          Don Mills  43.745906 -79.352188  \n27                                          Don Mills  43.725900 -79.340923  \n28  Bathurst Manor / Wilson Heights / Downsview North  43.754328 -79.442259  \n29                   Northwood Park / York University  43.767980 -79.487262  "
                    },
                    "execution_count": 62,
                    "metadata": {},
                    "output_type": "execute_result"
                }
            ],
            "source": "df2 = df1.copy()\ndf2['Latitude'] = np.nan\ndf2['Longitude'] = np.nan\n#df2.head()\n\nfor i1 in df2.index:\n    idx = df_geo['Postal Code'] == df2.loc[i1, 'Postal code']\n    df2.at[idx, 'Latitude'] = df_geo.loc[idx, 'Latitude'].values\n    df2.at[idx, 'Longitude'] = df_geo.loc[idx, 'Longitude'].values\n\n    \ndf2.head(30)"
        },
        {
            "cell_type": "code",
            "execution_count": null,
            "metadata": {},
            "outputs": [],
            "source": ""
        },
        {
            "cell_type": "code",
            "execution_count": null,
            "metadata": {},
            "outputs": [],
            "source": ""
        },
        {
            "cell_type": "code",
            "execution_count": null,
            "metadata": {},
            "outputs": [],
            "source": ""
        }
    ],
    "metadata": {
        "kernelspec": {
            "display_name": "Python 3.6",
            "language": "python",
            "name": "python3"
        },
        "language_info": {
            "codemirror_mode": {
                "name": "ipython",
                "version": 3
            },
            "file_extension": ".py",
            "mimetype": "text/x-python",
            "name": "python",
            "nbconvert_exporter": "python",
            "pygments_lexer": "ipython3",
            "version": "3.6.9"
        }
    },
    "nbformat": 4,
    "nbformat_minor": 1
}